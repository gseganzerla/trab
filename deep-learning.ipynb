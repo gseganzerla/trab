{
 "cells": [
  {
   "cell_type": "markdown",
   "metadata": {},
   "source": [
    "# Imports"
   ]
  },
  {
   "cell_type": "code",
   "execution_count": 60,
   "metadata": {},
   "outputs": [],
   "source": [
    "import pickle\n",
    "import pandas as pd\n",
    "import seaborn as sns\n",
    "import matplotlib.pyplot as plt\n",
    "\n",
    "from sklearn.preprocessing import OneHotEncoder, StandardScaler, MinMaxScaler\n",
    "from sklearn.compose import ColumnTransformer\n",
    "from sklearn.model_selection import train_test_split"
   ]
  },
  {
   "cell_type": "code",
   "execution_count": 61,
   "metadata": {},
   "outputs": [
    {
     "data": {
      "text/html": [
       "<div>\n",
       "<style scoped>\n",
       "    .dataframe tbody tr th:only-of-type {\n",
       "        vertical-align: middle;\n",
       "    }\n",
       "\n",
       "    .dataframe tbody tr th {\n",
       "        vertical-align: top;\n",
       "    }\n",
       "\n",
       "    .dataframe thead th {\n",
       "        text-align: right;\n",
       "    }\n",
       "</style>\n",
       "<table border=\"1\" class=\"dataframe\">\n",
       "  <thead>\n",
       "    <tr style=\"text-align: right;\">\n",
       "      <th></th>\n",
       "      <th>Transaction ID</th>\n",
       "      <th>Date</th>\n",
       "      <th>Time</th>\n",
       "      <th>Card Type</th>\n",
       "      <th>Entry Mode</th>\n",
       "      <th>Amount</th>\n",
       "      <th>Transaction Type</th>\n",
       "      <th>Merchant Group</th>\n",
       "      <th>Transaction Country</th>\n",
       "      <th>Shipping Address</th>\n",
       "      <th>Billing Address</th>\n",
       "      <th>Gender</th>\n",
       "      <th>Age</th>\n",
       "      <th>Issuing Bank</th>\n",
       "      <th>Fraudulent</th>\n",
       "    </tr>\n",
       "  </thead>\n",
       "  <tbody>\n",
       "    <tr>\n",
       "      <th>0</th>\n",
       "      <td>1</td>\n",
       "      <td>19/10/2023</td>\n",
       "      <td>05:31</td>\n",
       "      <td>MasterCard</td>\n",
       "      <td>Tap</td>\n",
       "      <td>391.56</td>\n",
       "      <td>POS</td>\n",
       "      <td>Clothing</td>\n",
       "      <td>Italy</td>\n",
       "      <td>61 Redwood St</td>\n",
       "      <td>726 Maple St</td>\n",
       "      <td>Female</td>\n",
       "      <td>55</td>\n",
       "      <td>XYZ Bank</td>\n",
       "      <td>No</td>\n",
       "    </tr>\n",
       "    <tr>\n",
       "      <th>1</th>\n",
       "      <td>2</td>\n",
       "      <td>16/10/2023</td>\n",
       "      <td>12:56</td>\n",
       "      <td>MasterCard</td>\n",
       "      <td>Tap</td>\n",
       "      <td>167.67</td>\n",
       "      <td>Online</td>\n",
       "      <td>Clothing</td>\n",
       "      <td>France</td>\n",
       "      <td>945 Pine St</td>\n",
       "      <td>252 Cedar St</td>\n",
       "      <td>Male</td>\n",
       "      <td>37</td>\n",
       "      <td>DEF Bank</td>\n",
       "      <td>No</td>\n",
       "    </tr>\n",
       "    <tr>\n",
       "      <th>2</th>\n",
       "      <td>3</td>\n",
       "      <td>29/09/2023</td>\n",
       "      <td>07:57</td>\n",
       "      <td>MasterCard</td>\n",
       "      <td>PIN</td>\n",
       "      <td>126.24</td>\n",
       "      <td>Online</td>\n",
       "      <td>Electronics</td>\n",
       "      <td>Spain</td>\n",
       "      <td>773 Oak St</td>\n",
       "      <td>177 Main St</td>\n",
       "      <td>Male</td>\n",
       "      <td>53</td>\n",
       "      <td>ABC Bank</td>\n",
       "      <td>No</td>\n",
       "    </tr>\n",
       "    <tr>\n",
       "      <th>3</th>\n",
       "      <td>4</td>\n",
       "      <td>13/10/2023</td>\n",
       "      <td>00:08</td>\n",
       "      <td>MasterCard</td>\n",
       "      <td>Tap</td>\n",
       "      <td>496.80</td>\n",
       "      <td>Online</td>\n",
       "      <td>Electronics</td>\n",
       "      <td>UK</td>\n",
       "      <td>436 Maple St</td>\n",
       "      <td>758 Main St</td>\n",
       "      <td>Male</td>\n",
       "      <td>21</td>\n",
       "      <td>DEF Bank</td>\n",
       "      <td>No</td>\n",
       "    </tr>\n",
       "    <tr>\n",
       "      <th>4</th>\n",
       "      <td>5</td>\n",
       "      <td>02/10/2023</td>\n",
       "      <td>23:19</td>\n",
       "      <td>MasterCard</td>\n",
       "      <td>Tap</td>\n",
       "      <td>446.88</td>\n",
       "      <td>POS</td>\n",
       "      <td>Grocery</td>\n",
       "      <td>France</td>\n",
       "      <td>887 Pine St</td>\n",
       "      <td>629 Main St</td>\n",
       "      <td>Male</td>\n",
       "      <td>52</td>\n",
       "      <td>XYZ Bank</td>\n",
       "      <td>No</td>\n",
       "    </tr>\n",
       "  </tbody>\n",
       "</table>\n",
       "</div>"
      ],
      "text/plain": [
       "   Transaction ID        Date   Time   Card Type Entry Mode  Amount  \\\n",
       "0               1  19/10/2023  05:31  MasterCard        Tap  391.56   \n",
       "1               2  16/10/2023  12:56  MasterCard        Tap  167.67   \n",
       "2               3  29/09/2023  07:57  MasterCard        PIN  126.24   \n",
       "3               4  13/10/2023  00:08  MasterCard        Tap  496.80   \n",
       "4               5  02/10/2023  23:19  MasterCard        Tap  446.88   \n",
       "\n",
       "  Transaction Type Merchant Group Transaction Country Shipping Address  \\\n",
       "0              POS       Clothing               Italy    61 Redwood St   \n",
       "1           Online       Clothing              France      945 Pine St   \n",
       "2           Online    Electronics               Spain       773 Oak St   \n",
       "3           Online    Electronics                  UK     436 Maple St   \n",
       "4              POS        Grocery              France      887 Pine St   \n",
       "\n",
       "  Billing Address  Gender  Age Issuing Bank Fraudulent  \n",
       "0    726 Maple St  Female   55     XYZ Bank         No  \n",
       "1    252 Cedar St    Male   37     DEF Bank         No  \n",
       "2     177 Main St    Male   53     ABC Bank         No  \n",
       "3     758 Main St    Male   21     DEF Bank         No  \n",
       "4     629 Main St    Male   52     XYZ Bank         No  "
      ]
     },
     "execution_count": 61,
     "metadata": {},
     "output_type": "execute_result"
    }
   ],
   "source": [
    "df = pd.read_csv('dataset.csv', delimiter=';')\n",
    "df.head()"
   ]
  },
  {
   "cell_type": "markdown",
   "metadata": {},
   "source": [
    "# Análise Exploratória de Dados"
   ]
  },
  {
   "cell_type": "code",
   "execution_count": 62,
   "metadata": {},
   "outputs": [
    {
     "data": {
      "text/plain": [
       "Transaction ID         0\n",
       "Date                   0\n",
       "Time                   0\n",
       "Card Type              0\n",
       "Entry Mode             0\n",
       "Amount                 0\n",
       "Transaction Type       0\n",
       "Merchant Group         0\n",
       "Transaction Country    0\n",
       "Shipping Address       0\n",
       "Billing Address        0\n",
       "Gender                 0\n",
       "Age                    0\n",
       "Issuing Bank           0\n",
       "Fraudulent             0\n",
       "dtype: int64"
      ]
     },
     "execution_count": 62,
     "metadata": {},
     "output_type": "execute_result"
    }
   ],
   "source": [
    "df.isna().sum()"
   ]
  },
  {
   "cell_type": "code",
   "execution_count": 63,
   "metadata": {},
   "outputs": [
    {
     "data": {
      "text/plain": [
       "0"
      ]
     },
     "execution_count": 63,
     "metadata": {},
     "output_type": "execute_result"
    }
   ],
   "source": [
    "df.duplicated().sum()"
   ]
  },
  {
   "cell_type": "code",
   "execution_count": 64,
   "metadata": {},
   "outputs": [
    {
     "data": {
      "text/plain": [
       "(1000, 15)"
      ]
     },
     "execution_count": 64,
     "metadata": {},
     "output_type": "execute_result"
    }
   ],
   "source": [
    "df.shape"
   ]
  },
  {
   "cell_type": "code",
   "execution_count": 65,
   "metadata": {},
   "outputs": [
    {
     "data": {
      "text/plain": [
       "array(['MasterCard', 'Visa'], dtype=object)"
      ]
     },
     "execution_count": 65,
     "metadata": {},
     "output_type": "execute_result"
    }
   ],
   "source": [
    "df['Card Type'].unique()"
   ]
  },
  {
   "cell_type": "code",
   "execution_count": 66,
   "metadata": {},
   "outputs": [
    {
     "data": {
      "text/plain": [
       "array(['Tap', 'PIN'], dtype=object)"
      ]
     },
     "execution_count": 66,
     "metadata": {},
     "output_type": "execute_result"
    }
   ],
   "source": [
    "df['Entry Mode'].unique()"
   ]
  },
  {
   "cell_type": "code",
   "execution_count": 67,
   "metadata": {},
   "outputs": [
    {
     "data": {
      "text/plain": [
       "array(['Clothing', 'Electronics', 'Grocery', 'Food', 'ATM Withdrawal',\n",
       "       'Retail'], dtype=object)"
      ]
     },
     "execution_count": 67,
     "metadata": {},
     "output_type": "execute_result"
    }
   ],
   "source": [
    "df['Merchant Group'].unique()"
   ]
  },
  {
   "cell_type": "code",
   "execution_count": 68,
   "metadata": {},
   "outputs": [
    {
     "data": {
      "text/plain": [
       "array(['Italy', 'France', 'Spain', 'UK', 'USA', 'Germany', 'Canada'],\n",
       "      dtype=object)"
      ]
     },
     "execution_count": 68,
     "metadata": {},
     "output_type": "execute_result"
    }
   ],
   "source": [
    "df['Transaction Country'].unique()"
   ]
  },
  {
   "cell_type": "code",
   "execution_count": 69,
   "metadata": {},
   "outputs": [
    {
     "data": {
      "text/plain": [
       "array(['XYZ Bank', 'DEF Bank', 'ABC Bank'], dtype=object)"
      ]
     },
     "execution_count": 69,
     "metadata": {},
     "output_type": "execute_result"
    }
   ],
   "source": [
    "df['Issuing Bank'].unique()"
   ]
  },
  {
   "cell_type": "code",
   "execution_count": 70,
   "metadata": {},
   "outputs": [
    {
     "data": {
      "text/plain": [
       "array(['Yes'], dtype=object)"
      ]
     },
     "execution_count": 70,
     "metadata": {},
     "output_type": "execute_result"
    }
   ],
   "source": [
    "df_fraudulent = df.query('Fraudulent == \"Yes\"')\n",
    "df_fraudulent['Fraudulent'].unique()"
   ]
  },
  {
   "cell_type": "code",
   "execution_count": 71,
   "metadata": {},
   "outputs": [
    {
     "data": {
      "text/plain": [
       "array(['No'], dtype=object)"
      ]
     },
     "execution_count": 71,
     "metadata": {},
     "output_type": "execute_result"
    }
   ],
   "source": [
    "df_not_fraudulent = df[df['Fraudulent'] == 'No']\n",
    "df_not_fraudulent['Fraudulent'].unique()"
   ]
  },
  {
   "cell_type": "markdown",
   "metadata": {},
   "source": [
    "# Age"
   ]
  },
  {
   "cell_type": "code",
   "execution_count": 72,
   "metadata": {},
   "outputs": [
    {
     "data": {
      "text/plain": [
       "count    1000.000000\n",
       "mean       44.657000\n",
       "std        15.177606\n",
       "min        18.000000\n",
       "25%        31.000000\n",
       "50%        45.500000\n",
       "75%        57.000000\n",
       "max        70.000000\n",
       "Name: Age, dtype: float64"
      ]
     },
     "execution_count": 72,
     "metadata": {},
     "output_type": "execute_result"
    }
   ],
   "source": [
    "df['Age'].describe()"
   ]
  },
  {
   "cell_type": "code",
   "execution_count": 73,
   "metadata": {},
   "outputs": [
    {
     "name": "stderr",
     "output_type": "stream",
     "text": [
      "/home/gseganzerla/.cache/pypoetry/virtualenvs/data-science-3_EHRu8F-py3.11/lib/python3.11/site-packages/seaborn/_oldcore.py:1498: FutureWarning: is_categorical_dtype is deprecated and will be removed in a future version. Use isinstance(dtype, CategoricalDtype) instead\n",
      "  if pd.api.types.is_categorical_dtype(vector):\n"
     ]
    },
    {
     "data": {
      "text/plain": [
       "<Axes: xlabel='Age'>"
      ]
     },
     "execution_count": 73,
     "metadata": {},
     "output_type": "execute_result"
    },
    {
     "data": {
      "image/png": "[encoded data removed]",
      "text/plain": [
       "<Figure size 640x480 with 1 Axes>"
      ]
     },
     "metadata": {},
     "output_type": "display_data"
    }
   ],
   "source": [
    "sns.boxplot(df, x=df['Age'])"
   ]
  },
  {
   "cell_type": "markdown",
   "metadata": {},
   "source": [
    "## Age X Fraudulent"
   ]
  },
  {
   "cell_type": "code",
   "execution_count": 74,
   "metadata": {},
   "outputs": [],
   "source": [
    "def print_histplot(fraudulent, not_fraudulent, column):\n",
    "    print('Fraudulent')\n",
    "    sns.histplot(fraudulent, x=fraudulent[column])\n",
    "    plt.show()\n",
    "\n",
    "    print('Not Fraudulent')\n",
    "    sns.histplot(not_fraudulent, x=not_fraudulent[column])\n",
    "    plt.show()\n",
    "\n",
    "def hist_fraudulent(column):\n",
    "    print_histplot(df_fraudulent, df_not_fraudulent, column)\n",
    "\n",
    "    "
   ]
  },
  {
   "cell_type": "code",
   "execution_count": 75,
   "metadata": {},
   "outputs": [
    {
     "name": "stdout",
     "output_type": "stream",
     "text": [
      "Fraudulent\n"
     ]
    },
    {
     "name": "stderr",
     "output_type": "stream",
     "text": [
      "/home/gseganzerla/.cache/pypoetry/virtualenvs/data-science-3_EHRu8F-py3.11/lib/python3.11/site-packages/seaborn/_oldcore.py:1498: FutureWarning: is_categorical_dtype is deprecated and will be removed in a future version. Use isinstance(dtype, CategoricalDtype) instead\n",
      "  if pd.api.types.is_categorical_dtype(vector):\n",
      "/home/gseganzerla/.cache/pypoetry/virtualenvs/data-science-3_EHRu8F-py3.11/lib/python3.11/site-packages/seaborn/_oldcore.py:1119: FutureWarning: use_inf_as_na option is deprecated and will be removed in a future version. Convert inf values to NaN before operating instead.\n",
      "  with pd.option_context('mode.use_inf_as_na', True):\n"
     ]
    },
    {
     "data": {
      "image/png": "[encoded data removed]",
      "text/plain": [
       "<Figure size 640x480 with 1 Axes>"
      ]
     },
     "metadata": {},
     "output_type": "display_data"
    },
    {
     "name": "stderr",
     "output_type": "stream",
     "text": [
      "/home/gseganzerla/.cache/pypoetry/virtualenvs/data-science-3_EHRu8F-py3.11/lib/python3.11/site-packages/seaborn/_oldcore.py:1498: FutureWarning: is_categorical_dtype is deprecated and will be removed in a future version. Use isinstance(dtype, CategoricalDtype) instead\n",
      "  if pd.api.types.is_categorical_dtype(vector):\n",
      "/home/gseganzerla/.cache/pypoetry/virtualenvs/data-science-3_EHRu8F-py3.11/lib/python3.11/site-packages/seaborn/_oldcore.py:1119: FutureWarning: use_inf_as_na option is deprecated and will be removed in a future version. Convert inf values to NaN before operating instead.\n",
      "  with pd.option_context('mode.use_inf_as_na', True):\n"
     ]
    },
    {
     "name": "stdout",
     "output_type": "stream",
     "text": [
      "Not Fraudulent\n"
     ]
    },
    {
     "data": {
      "image/png": "[encoded data removed]",
      "text/plain": [
       "<Figure size 640x480 with 1 Axes>"
      ]
     },
     "metadata": {},
     "output_type": "display_data"
    }
   ],
   "source": [
    "hist_fraudulent('Age')"
   ]
  },
  {
   "cell_type": "markdown",
   "metadata": {},
   "source": [
    "# Amount"
   ]
  },
  {
   "cell_type": "code",
   "execution_count": 76,
   "metadata": {},
   "outputs": [
    {
     "data": {
      "text/plain": [
       "count    1000.000000\n",
       "mean      266.140270\n",
       "std       138.775169\n",
       "min        20.180000\n",
       "25%       147.895000\n",
       "50%       268.365000\n",
       "75%       380.532500\n",
       "max       499.690000\n",
       "Name: Amount, dtype: float64"
      ]
     },
     "execution_count": 76,
     "metadata": {},
     "output_type": "execute_result"
    }
   ],
   "source": [
    "df['Amount'].describe()"
   ]
  },
  {
   "cell_type": "code",
   "execution_count": 77,
   "metadata": {},
   "outputs": [
    {
     "name": "stderr",
     "output_type": "stream",
     "text": [
      "/home/gseganzerla/.cache/pypoetry/virtualenvs/data-science-3_EHRu8F-py3.11/lib/python3.11/site-packages/seaborn/_oldcore.py:1498: FutureWarning: is_categorical_dtype is deprecated and will be removed in a future version. Use isinstance(dtype, CategoricalDtype) instead\n",
      "  if pd.api.types.is_categorical_dtype(vector):\n"
     ]
    },
    {
     "data": {
      "text/plain": [
       "<Axes: xlabel='Amount'>"
      ]
     },
     "execution_count": 77,
     "metadata": {},
     "output_type": "execute_result"
    },
    {
     "data": {
      "image/png": "[encoded data removed]",
      "text/plain": [
       "<Figure size 640x480 with 1 Axes>"
      ]
     },
     "metadata": {},
     "output_type": "display_data"
    }
   ],
   "source": [
    "sns.boxplot(df, x=df['Amount'])"
   ]
  },
  {
   "cell_type": "code",
   "execution_count": 78,
   "metadata": {},
   "outputs": [
    {
     "name": "stderr",
     "output_type": "stream",
     "text": [
      "/home/gseganzerla/.cache/pypoetry/virtualenvs/data-science-3_EHRu8F-py3.11/lib/python3.11/site-packages/seaborn/_oldcore.py:1498: FutureWarning: is_categorical_dtype is deprecated and will be removed in a future version. Use isinstance(dtype, CategoricalDtype) instead\n",
      "  if pd.api.types.is_categorical_dtype(vector):\n",
      "/home/gseganzerla/.cache/pypoetry/virtualenvs/data-science-3_EHRu8F-py3.11/lib/python3.11/site-packages/seaborn/_oldcore.py:1119: FutureWarning: use_inf_as_na option is deprecated and will be removed in a future version. Convert inf values to NaN before operating instead.\n",
      "  with pd.option_context('mode.use_inf_as_na', True):\n"
     ]
    },
    {
     "data": {
      "text/plain": [
       "<Axes: xlabel='Amount', ylabel='Count'>"
      ]
     },
     "execution_count": 78,
     "metadata": {},
     "output_type": "execute_result"
    },
    {
     "data": {
      "image/png": "[encoded data removed]",
      "text/plain": [
       "<Figure size 640x480 with 1 Axes>"
      ]
     },
     "metadata": {},
     "output_type": "display_data"
    }
   ],
   "source": [
    "sns.histplot(df, x=df['Amount'])"
   ]
  },
  {
   "cell_type": "code",
   "execution_count": 79,
   "metadata": {},
   "outputs": [
    {
     "data": {
      "text/plain": [
       "Transaction ID         207\n",
       "Date                   207\n",
       "Time                   207\n",
       "Card Type              207\n",
       "Entry Mode             207\n",
       "Amount                 207\n",
       "Transaction Type       207\n",
       "Merchant Group         207\n",
       "Transaction Country    207\n",
       "Shipping Address       207\n",
       "Billing Address        207\n",
       "Gender                 207\n",
       "Age                    207\n",
       "Issuing Bank           207\n",
       "Fraudulent             207\n",
       "dtype: int64"
      ]
     },
     "execution_count": 79,
     "metadata": {},
     "output_type": "execute_result"
    }
   ],
   "source": [
    "df.query('Amount > 400 ').count()"
   ]
  },
  {
   "cell_type": "markdown",
   "metadata": {},
   "source": [
    "# Fraudulent"
   ]
  },
  {
   "cell_type": "code",
   "execution_count": 80,
   "metadata": {},
   "outputs": [
    {
     "name": "stderr",
     "output_type": "stream",
     "text": [
      "/home/gseganzerla/.cache/pypoetry/virtualenvs/data-science-3_EHRu8F-py3.11/lib/python3.11/site-packages/seaborn/_oldcore.py:1498: FutureWarning: is_categorical_dtype is deprecated and will be removed in a future version. Use isinstance(dtype, CategoricalDtype) instead\n",
      "  if pd.api.types.is_categorical_dtype(vector):\n",
      "/home/gseganzerla/.cache/pypoetry/virtualenvs/data-science-3_EHRu8F-py3.11/lib/python3.11/site-packages/seaborn/_oldcore.py:1498: FutureWarning: is_categorical_dtype is deprecated and will be removed in a future version. Use isinstance(dtype, CategoricalDtype) instead\n",
      "  if pd.api.types.is_categorical_dtype(vector):\n",
      "/home/gseganzerla/.cache/pypoetry/virtualenvs/data-science-3_EHRu8F-py3.11/lib/python3.11/site-packages/seaborn/_oldcore.py:1498: FutureWarning: is_categorical_dtype is deprecated and will be removed in a future version. Use isinstance(dtype, CategoricalDtype) instead\n",
      "  if pd.api.types.is_categorical_dtype(vector):\n"
     ]
    },
    {
     "data": {
      "text/plain": [
       "<Axes: xlabel='Fraudulent', ylabel='count'>"
      ]
     },
     "execution_count": 80,
     "metadata": {},
     "output_type": "execute_result"
    },
    {
     "data": {
      "image/png": "[encoded data removed]",
      "text/plain": [
       "<Figure size 640x480 with 1 Axes>"
      ]
     },
     "metadata": {},
     "output_type": "display_data"
    }
   ],
   "source": [
    "sns.countplot(df, x=df['Fraudulent'])"
   ]
  },
  {
   "cell_type": "code",
   "execution_count": 81,
   "metadata": {},
   "outputs": [
    {
     "data": {
      "text/plain": [
       "Fraudulent\n",
       "No     958\n",
       "Yes     42\n",
       "Name: count, dtype: int64"
      ]
     },
     "execution_count": 81,
     "metadata": {},
     "output_type": "execute_result"
    }
   ],
   "source": [
    "df['Fraudulent'].value_counts()"
   ]
  },
  {
   "cell_type": "markdown",
   "metadata": {},
   "source": [
    "# Card Type"
   ]
  },
  {
   "cell_type": "code",
   "execution_count": 82,
   "metadata": {},
   "outputs": [
    {
     "name": "stderr",
     "output_type": "stream",
     "text": [
      "/home/gseganzerla/.cache/pypoetry/virtualenvs/data-science-3_EHRu8F-py3.11/lib/python3.11/site-packages/seaborn/_oldcore.py:1498: FutureWarning: is_categorical_dtype is deprecated and will be removed in a future version. Use isinstance(dtype, CategoricalDtype) instead\n",
      "  if pd.api.types.is_categorical_dtype(vector):\n",
      "/home/gseganzerla/.cache/pypoetry/virtualenvs/data-science-3_EHRu8F-py3.11/lib/python3.11/site-packages/seaborn/_oldcore.py:1498: FutureWarning: is_categorical_dtype is deprecated and will be removed in a future version. Use isinstance(dtype, CategoricalDtype) instead\n",
      "  if pd.api.types.is_categorical_dtype(vector):\n",
      "/home/gseganzerla/.cache/pypoetry/virtualenvs/data-science-3_EHRu8F-py3.11/lib/python3.11/site-packages/seaborn/_oldcore.py:1498: FutureWarning: is_categorical_dtype is deprecated and will be removed in a future version. Use isinstance(dtype, CategoricalDtype) instead\n",
      "  if pd.api.types.is_categorical_dtype(vector):\n"
     ]
    },
    {
     "data": {
      "text/plain": [
       "<Axes: xlabel='Card Type', ylabel='count'>"
      ]
     },
     "execution_count": 82,
     "metadata": {},
     "output_type": "execute_result"
    },
    {
     "data": {
      "image/png": "[encoded data removed]",
      "text/plain": [
       "<Figure size 640x480 with 1 Axes>"
      ]
     },
     "metadata": {},
     "output_type": "display_data"
    }
   ],
   "source": [
    "sns.countplot(df, x=df['Card Type'])"
   ]
  },
  {
   "cell_type": "markdown",
   "metadata": {},
   "source": [
    "# Sex"
   ]
  },
  {
   "cell_type": "code",
   "execution_count": 83,
   "metadata": {},
   "outputs": [
    {
     "data": {
      "text/plain": [
       "Gender\n",
       "Female    51.0\n",
       "Male      49.0\n",
       "Name: proportion, dtype: float64"
      ]
     },
     "execution_count": 83,
     "metadata": {},
     "output_type": "execute_result"
    }
   ],
   "source": [
    "df['Gender'].value_counts(normalize=True)*100"
   ]
  },
  {
   "cell_type": "markdown",
   "metadata": {},
   "source": [
    "## Gender X Fraudulent"
   ]
  },
  {
   "cell_type": "code",
   "execution_count": 84,
   "metadata": {},
   "outputs": [
    {
     "name": "stderr",
     "output_type": "stream",
     "text": [
      "/home/gseganzerla/.cache/pypoetry/virtualenvs/data-science-3_EHRu8F-py3.11/lib/python3.11/site-packages/seaborn/_oldcore.py:1498: FutureWarning: is_categorical_dtype is deprecated and will be removed in a future version. Use isinstance(dtype, CategoricalDtype) instead\n",
      "  if pd.api.types.is_categorical_dtype(vector):\n",
      "/home/gseganzerla/.cache/pypoetry/virtualenvs/data-science-3_EHRu8F-py3.11/lib/python3.11/site-packages/seaborn/_oldcore.py:1498: FutureWarning: is_categorical_dtype is deprecated and will be removed in a future version. Use isinstance(dtype, CategoricalDtype) instead\n",
      "  if pd.api.types.is_categorical_dtype(vector):\n",
      "/home/gseganzerla/.cache/pypoetry/virtualenvs/data-science-3_EHRu8F-py3.11/lib/python3.11/site-packages/seaborn/_oldcore.py:1119: FutureWarning: use_inf_as_na option is deprecated and will be removed in a future version. Convert inf values to NaN before operating instead.\n",
      "  with pd.option_context('mode.use_inf_as_na', True):\n"
     ]
    },
    {
     "name": "stdout",
     "output_type": "stream",
     "text": [
      "Fraudulent\n"
     ]
    },
    {
     "data": {
      "image/png": "[encoded data removed]",
      "text/plain": [
       "<Figure size 640x480 with 1 Axes>"
      ]
     },
     "metadata": {},
     "output_type": "display_data"
    },
    {
     "name": "stdout",
     "output_type": "stream",
     "text": [
      "Not Fraudulent\n"
     ]
    },
    {
     "name": "stderr",
     "output_type": "stream",
     "text": [
      "/home/gseganzerla/.cache/pypoetry/virtualenvs/data-science-3_EHRu8F-py3.11/lib/python3.11/site-packages/seaborn/_oldcore.py:1498: FutureWarning: is_categorical_dtype is deprecated and will be removed in a future version. Use isinstance(dtype, CategoricalDtype) instead\n",
      "  if pd.api.types.is_categorical_dtype(vector):\n",
      "/home/gseganzerla/.cache/pypoetry/virtualenvs/data-science-3_EHRu8F-py3.11/lib/python3.11/site-packages/seaborn/_oldcore.py:1498: FutureWarning: is_categorical_dtype is deprecated and will be removed in a future version. Use isinstance(dtype, CategoricalDtype) instead\n",
      "  if pd.api.types.is_categorical_dtype(vector):\n",
      "/home/gseganzerla/.cache/pypoetry/virtualenvs/data-science-3_EHRu8F-py3.11/lib/python3.11/site-packages/seaborn/_oldcore.py:1119: FutureWarning: use_inf_as_na option is deprecated and will be removed in a future version. Convert inf values to NaN before operating instead.\n",
      "  with pd.option_context('mode.use_inf_as_na', True):\n"
     ]
    },
    {
     "data": {
      "image/png": "[encoded data removed]",
      "text/plain": [
       "<Figure size 640x480 with 1 Axes>"
      ]
     },
     "metadata": {},
     "output_type": "display_data"
    }
   ],
   "source": [
    "hist_fraudulent('Gender')"
   ]
  },
  {
   "cell_type": "markdown",
   "metadata": {},
   "source": [
    "# Transaction Type\t"
   ]
  },
  {
   "cell_type": "code",
   "execution_count": 85,
   "metadata": {},
   "outputs": [
    {
     "name": "stdout",
     "output_type": "stream",
     "text": [
      "Fraudulent\n"
     ]
    },
    {
     "name": "stderr",
     "output_type": "stream",
     "text": [
      "/home/gseganzerla/.cache/pypoetry/virtualenvs/data-science-3_EHRu8F-py3.11/lib/python3.11/site-packages/seaborn/_oldcore.py:1498: FutureWarning: is_categorical_dtype is deprecated and will be removed in a future version. Use isinstance(dtype, CategoricalDtype) instead\n",
      "  if pd.api.types.is_categorical_dtype(vector):\n",
      "/home/gseganzerla/.cache/pypoetry/virtualenvs/data-science-3_EHRu8F-py3.11/lib/python3.11/site-packages/seaborn/_oldcore.py:1498: FutureWarning: is_categorical_dtype is deprecated and will be removed in a future version. Use isinstance(dtype, CategoricalDtype) instead\n",
      "  if pd.api.types.is_categorical_dtype(vector):\n",
      "/home/gseganzerla/.cache/pypoetry/virtualenvs/data-science-3_EHRu8F-py3.11/lib/python3.11/site-packages/seaborn/_oldcore.py:1119: FutureWarning: use_inf_as_na option is deprecated and will be removed in a future version. Convert inf values to NaN before operating instead.\n",
      "  with pd.option_context('mode.use_inf_as_na', True):\n"
     ]
    },
    {
     "data": {
      "image/png": "[encoded data removed]",
      "text/plain": [
       "<Figure size 640x480 with 1 Axes>"
      ]
     },
     "metadata": {},
     "output_type": "display_data"
    },
    {
     "name": "stdout",
     "output_type": "stream",
     "text": [
      "Not Fraudulent\n"
     ]
    },
    {
     "name": "stderr",
     "output_type": "stream",
     "text": [
      "/home/gseganzerla/.cache/pypoetry/virtualenvs/data-science-3_EHRu8F-py3.11/lib/python3.11/site-packages/seaborn/_oldcore.py:1498: FutureWarning: is_categorical_dtype is deprecated and will be removed in a future version. Use isinstance(dtype, CategoricalDtype) instead\n",
      "  if pd.api.types.is_categorical_dtype(vector):\n",
      "/home/gseganzerla/.cache/pypoetry/virtualenvs/data-science-3_EHRu8F-py3.11/lib/python3.11/site-packages/seaborn/_oldcore.py:1498: FutureWarning: is_categorical_dtype is deprecated and will be removed in a future version. Use isinstance(dtype, CategoricalDtype) instead\n",
      "  if pd.api.types.is_categorical_dtype(vector):\n",
      "/home/gseganzerla/.cache/pypoetry/virtualenvs/data-science-3_EHRu8F-py3.11/lib/python3.11/site-packages/seaborn/_oldcore.py:1119: FutureWarning: use_inf_as_na option is deprecated and will be removed in a future version. Convert inf values to NaN before operating instead.\n",
      "  with pd.option_context('mode.use_inf_as_na', True):\n"
     ]
    },
    {
     "data": {
      "image/png": "[encoded data removed]",
      "text/plain": [
       "<Figure size 640x480 with 1 Axes>"
      ]
     },
     "metadata": {},
     "output_type": "display_data"
    }
   ],
   "source": [
    "hist_fraudulent('Transaction Type')"
   ]
  },
  {
   "cell_type": "markdown",
   "metadata": {},
   "source": [
    "# Merchant Group"
   ]
  },
  {
   "cell_type": "code",
   "execution_count": 86,
   "metadata": {},
   "outputs": [
    {
     "name": "stdout",
     "output_type": "stream",
     "text": [
      "Fraudulent\n"
     ]
    },
    {
     "name": "stderr",
     "output_type": "stream",
     "text": [
      "/home/gseganzerla/.cache/pypoetry/virtualenvs/data-science-3_EHRu8F-py3.11/lib/python3.11/site-packages/seaborn/_oldcore.py:1498: FutureWarning: is_categorical_dtype is deprecated and will be removed in a future version. Use isinstance(dtype, CategoricalDtype) instead\n",
      "  if pd.api.types.is_categorical_dtype(vector):\n",
      "/home/gseganzerla/.cache/pypoetry/virtualenvs/data-science-3_EHRu8F-py3.11/lib/python3.11/site-packages/seaborn/_oldcore.py:1498: FutureWarning: is_categorical_dtype is deprecated and will be removed in a future version. Use isinstance(dtype, CategoricalDtype) instead\n",
      "  if pd.api.types.is_categorical_dtype(vector):\n",
      "/home/gseganzerla/.cache/pypoetry/virtualenvs/data-science-3_EHRu8F-py3.11/lib/python3.11/site-packages/seaborn/_oldcore.py:1119: FutureWarning: use_inf_as_na option is deprecated and will be removed in a future version. Convert inf values to NaN before operating instead.\n",
      "  with pd.option_context('mode.use_inf_as_na', True):\n"
     ]
    },
    {
     "data": {
      "image/png": "[encoded data removed]",
      "text/plain": [
       "<Figure size 640x480 with 1 Axes>"
      ]
     },
     "metadata": {},
     "output_type": "display_data"
    },
    {
     "name": "stdout",
     "output_type": "stream",
     "text": [
      "Not Fraudulent\n"
     ]
    },
    {
     "name": "stderr",
     "output_type": "stream",
     "text": [
      "/home/gseganzerla/.cache/pypoetry/virtualenvs/data-science-3_EHRu8F-py3.11/lib/python3.11/site-packages/seaborn/_oldcore.py:1498: FutureWarning: is_categorical_dtype is deprecated and will be removed in a future version. Use isinstance(dtype, CategoricalDtype) instead\n",
      "  if pd.api.types.is_categorical_dtype(vector):\n",
      "/home/gseganzerla/.cache/pypoetry/virtualenvs/data-science-3_EHRu8F-py3.11/lib/python3.11/site-packages/seaborn/_oldcore.py:1498: FutureWarning: is_categorical_dtype is deprecated and will be removed in a future version. Use isinstance(dtype, CategoricalDtype) instead\n",
      "  if pd.api.types.is_categorical_dtype(vector):\n",
      "/home/gseganzerla/.cache/pypoetry/virtualenvs/data-science-3_EHRu8F-py3.11/lib/python3.11/site-packages/seaborn/_oldcore.py:1119: FutureWarning: use_inf_as_na option is deprecated and will be removed in a future version. Convert inf values to NaN before operating instead.\n",
      "  with pd.option_context('mode.use_inf_as_na', True):\n"
     ]
    },
    {
     "data": {
      "image/png": "[encoded data removed]",
      "text/plain": [
       "<Figure size 640x480 with 1 Axes>"
      ]
     },
     "metadata": {},
     "output_type": "display_data"
    }
   ],
   "source": [
    "hist_fraudulent('Merchant Group')\n",
    "# sns.countplot(df_fraudulent, x=df_fraudulent['Merchant Group'])"
   ]
  },
  {
   "cell_type": "markdown",
   "metadata": {},
   "source": [
    "# Transaction Country\n"
   ]
  },
  {
   "cell_type": "code",
   "execution_count": 87,
   "metadata": {},
   "outputs": [
    {
     "name": "stdout",
     "output_type": "stream",
     "text": [
      "Fraudulent\n"
     ]
    },
    {
     "name": "stderr",
     "output_type": "stream",
     "text": [
      "/home/gseganzerla/.cache/pypoetry/virtualenvs/data-science-3_EHRu8F-py3.11/lib/python3.11/site-packages/seaborn/_oldcore.py:1498: FutureWarning: is_categorical_dtype is deprecated and will be removed in a future version. Use isinstance(dtype, CategoricalDtype) instead\n",
      "  if pd.api.types.is_categorical_dtype(vector):\n",
      "/home/gseganzerla/.cache/pypoetry/virtualenvs/data-science-3_EHRu8F-py3.11/lib/python3.11/site-packages/seaborn/_oldcore.py:1498: FutureWarning: is_categorical_dtype is deprecated and will be removed in a future version. Use isinstance(dtype, CategoricalDtype) instead\n",
      "  if pd.api.types.is_categorical_dtype(vector):\n",
      "/home/gseganzerla/.cache/pypoetry/virtualenvs/data-science-3_EHRu8F-py3.11/lib/python3.11/site-packages/seaborn/_oldcore.py:1119: FutureWarning: use_inf_as_na option is deprecated and will be removed in a future version. Convert inf values to NaN before operating instead.\n",
      "  with pd.option_context('mode.use_inf_as_na', True):\n"
     ]
    },
    {
     "data": {
      "image/png": "[encoded data removed]",
      "text/plain": [
       "<Figure size 640x480 with 1 Axes>"
      ]
     },
     "metadata": {},
     "output_type": "display_data"
    },
    {
     "name": "stdout",
     "output_type": "stream",
     "text": [
      "Not Fraudulent\n"
     ]
    },
    {
     "name": "stderr",
     "output_type": "stream",
     "text": [
      "/home/gseganzerla/.cache/pypoetry/virtualenvs/data-science-3_EHRu8F-py3.11/lib/python3.11/site-packages/seaborn/_oldcore.py:1498: FutureWarning: is_categorical_dtype is deprecated and will be removed in a future version. Use isinstance(dtype, CategoricalDtype) instead\n",
      "  if pd.api.types.is_categorical_dtype(vector):\n",
      "/home/gseganzerla/.cache/pypoetry/virtualenvs/data-science-3_EHRu8F-py3.11/lib/python3.11/site-packages/seaborn/_oldcore.py:1498: FutureWarning: is_categorical_dtype is deprecated and will be removed in a future version. Use isinstance(dtype, CategoricalDtype) instead\n",
      "  if pd.api.types.is_categorical_dtype(vector):\n",
      "/home/gseganzerla/.cache/pypoetry/virtualenvs/data-science-3_EHRu8F-py3.11/lib/python3.11/site-packages/seaborn/_oldcore.py:1119: FutureWarning: use_inf_as_na option is deprecated and will be removed in a future version. Convert inf values to NaN before operating instead.\n",
      "  with pd.option_context('mode.use_inf_as_na', True):\n"
     ]
    },
    {
     "data": {
      "image/png": "[encoded data removed]",
      "text/plain": [
       "<Figure size 640x480 with 1 Axes>"
      ]
     },
     "metadata": {},
     "output_type": "display_data"
    }
   ],
   "source": [
    "hist_fraudulent('Transaction Country')"
   ]
  },
  {
   "cell_type": "markdown",
   "metadata": {},
   "source": [
    "# Date"
   ]
  },
  {
   "cell_type": "code",
   "execution_count": 88,
   "metadata": {},
   "outputs": [
    {
     "data": {
      "text/html": [
       "<div>\n",
       "<style scoped>\n",
       "    .dataframe tbody tr th:only-of-type {\n",
       "        vertical-align: middle;\n",
       "    }\n",
       "\n",
       "    .dataframe tbody tr th {\n",
       "        vertical-align: top;\n",
       "    }\n",
       "\n",
       "    .dataframe thead th {\n",
       "        text-align: right;\n",
       "    }\n",
       "</style>\n",
       "<table border=\"1\" class=\"dataframe\">\n",
       "  <thead>\n",
       "    <tr style=\"text-align: right;\">\n",
       "      <th></th>\n",
       "      <th>Transaction ID</th>\n",
       "      <th>Date</th>\n",
       "      <th>Time</th>\n",
       "      <th>Card Type</th>\n",
       "      <th>Entry Mode</th>\n",
       "      <th>Amount</th>\n",
       "      <th>Transaction Type</th>\n",
       "      <th>Merchant Group</th>\n",
       "      <th>Transaction Country</th>\n",
       "      <th>Shipping Address</th>\n",
       "      <th>Billing Address</th>\n",
       "      <th>Gender</th>\n",
       "      <th>Age</th>\n",
       "      <th>Issuing Bank</th>\n",
       "      <th>Fraudulent</th>\n",
       "    </tr>\n",
       "  </thead>\n",
       "  <tbody>\n",
       "    <tr>\n",
       "      <th>0</th>\n",
       "      <td>1</td>\n",
       "      <td>19/10/2023</td>\n",
       "      <td>05:31</td>\n",
       "      <td>MasterCard</td>\n",
       "      <td>Tap</td>\n",
       "      <td>391.56</td>\n",
       "      <td>POS</td>\n",
       "      <td>Clothing</td>\n",
       "      <td>Italy</td>\n",
       "      <td>61 Redwood St</td>\n",
       "      <td>726 Maple St</td>\n",
       "      <td>Female</td>\n",
       "      <td>55</td>\n",
       "      <td>XYZ Bank</td>\n",
       "      <td>No</td>\n",
       "    </tr>\n",
       "    <tr>\n",
       "      <th>1</th>\n",
       "      <td>2</td>\n",
       "      <td>16/10/2023</td>\n",
       "      <td>12:56</td>\n",
       "      <td>MasterCard</td>\n",
       "      <td>Tap</td>\n",
       "      <td>167.67</td>\n",
       "      <td>Online</td>\n",
       "      <td>Clothing</td>\n",
       "      <td>France</td>\n",
       "      <td>945 Pine St</td>\n",
       "      <td>252 Cedar St</td>\n",
       "      <td>Male</td>\n",
       "      <td>37</td>\n",
       "      <td>DEF Bank</td>\n",
       "      <td>No</td>\n",
       "    </tr>\n",
       "    <tr>\n",
       "      <th>2</th>\n",
       "      <td>3</td>\n",
       "      <td>29/09/2023</td>\n",
       "      <td>07:57</td>\n",
       "      <td>MasterCard</td>\n",
       "      <td>PIN</td>\n",
       "      <td>126.24</td>\n",
       "      <td>Online</td>\n",
       "      <td>Electronics</td>\n",
       "      <td>Spain</td>\n",
       "      <td>773 Oak St</td>\n",
       "      <td>177 Main St</td>\n",
       "      <td>Male</td>\n",
       "      <td>53</td>\n",
       "      <td>ABC Bank</td>\n",
       "      <td>No</td>\n",
       "    </tr>\n",
       "    <tr>\n",
       "      <th>3</th>\n",
       "      <td>4</td>\n",
       "      <td>13/10/2023</td>\n",
       "      <td>00:08</td>\n",
       "      <td>MasterCard</td>\n",
       "      <td>Tap</td>\n",
       "      <td>496.80</td>\n",
       "      <td>Online</td>\n",
       "      <td>Electronics</td>\n",
       "      <td>UK</td>\n",
       "      <td>436 Maple St</td>\n",
       "      <td>758 Main St</td>\n",
       "      <td>Male</td>\n",
       "      <td>21</td>\n",
       "      <td>DEF Bank</td>\n",
       "      <td>No</td>\n",
       "    </tr>\n",
       "    <tr>\n",
       "      <th>4</th>\n",
       "      <td>5</td>\n",
       "      <td>02/10/2023</td>\n",
       "      <td>23:19</td>\n",
       "      <td>MasterCard</td>\n",
       "      <td>Tap</td>\n",
       "      <td>446.88</td>\n",
       "      <td>POS</td>\n",
       "      <td>Grocery</td>\n",
       "      <td>France</td>\n",
       "      <td>887 Pine St</td>\n",
       "      <td>629 Main St</td>\n",
       "      <td>Male</td>\n",
       "      <td>52</td>\n",
       "      <td>XYZ Bank</td>\n",
       "      <td>No</td>\n",
       "    </tr>\n",
       "  </tbody>\n",
       "</table>\n",
       "</div>"
      ],
      "text/plain": [
       "   Transaction ID        Date   Time   Card Type Entry Mode  Amount  \\\n",
       "0               1  19/10/2023  05:31  MasterCard        Tap  391.56   \n",
       "1               2  16/10/2023  12:56  MasterCard        Tap  167.67   \n",
       "2               3  29/09/2023  07:57  MasterCard        PIN  126.24   \n",
       "3               4  13/10/2023  00:08  MasterCard        Tap  496.80   \n",
       "4               5  02/10/2023  23:19  MasterCard        Tap  446.88   \n",
       "\n",
       "  Transaction Type Merchant Group Transaction Country Shipping Address  \\\n",
       "0              POS       Clothing               Italy    61 Redwood St   \n",
       "1           Online       Clothing              France      945 Pine St   \n",
       "2           Online    Electronics               Spain       773 Oak St   \n",
       "3           Online    Electronics                  UK     436 Maple St   \n",
       "4              POS        Grocery              France      887 Pine St   \n",
       "\n",
       "  Billing Address  Gender  Age Issuing Bank Fraudulent  \n",
       "0    726 Maple St  Female   55     XYZ Bank         No  \n",
       "1    252 Cedar St    Male   37     DEF Bank         No  \n",
       "2     177 Main St    Male   53     ABC Bank         No  \n",
       "3     758 Main St    Male   21     DEF Bank         No  \n",
       "4     629 Main St    Male   52     XYZ Bank         No  "
      ]
     },
     "execution_count": 88,
     "metadata": {},
     "output_type": "execute_result"
    }
   ],
   "source": [
    "df.head()"
   ]
  },
  {
   "cell_type": "code",
   "execution_count": 89,
   "metadata": {},
   "outputs": [
    {
     "data": {
      "text/plain": [
       "array(['19/10/2023', '16/10/2023', '29/09/2023', '13/10/2023',\n",
       "       '02/10/2023', '03/10/2023', '28/09/2023', '18/09/2023',\n",
       "       '07/10/2023', '10/10/2023', '23/09/2023', '30/09/2023',\n",
       "       '25/09/2023', '20/10/2023', '11/10/2023', '04/10/2023',\n",
       "       '12/10/2023', '01/10/2023', '18/10/2023', '08/10/2023',\n",
       "       '15/10/2023', '21/10/2023', '14/10/2023', '27/09/2023',\n",
       "       '06/10/2023', '26/09/2023', '22/10/2023', '17/09/2023',\n",
       "       '09/10/2023', '05/10/2023', '21/09/2023', '24/09/2023',\n",
       "       '19/09/2023', '17/10/2023', '20/09/2023', '22/09/2023'],\n",
       "      dtype=object)"
      ]
     },
     "execution_count": 89,
     "metadata": {},
     "output_type": "execute_result"
    }
   ],
   "source": [
    "df['Date'].unique()"
   ]
  },
  {
   "cell_type": "code",
   "execution_count": 90,
   "metadata": {},
   "outputs": [
    {
     "name": "stderr",
     "output_type": "stream",
     "text": [
      "/tmp/ipykernel_43004/2325432596.py:1: SettingWithCopyWarning: \n",
      "A value is trying to be set on a copy of a slice from a DataFrame.\n",
      "Try using .loc[row_indexer,col_indexer] = value instead\n",
      "\n",
      "See the caveats in the documentation: https://pandas.pydata.org/pandas-docs/stable/user_guide/indexing.html#returning-a-view-versus-a-copy\n",
      "  df_fraudulent['Date'] = pd.to_datetime(df_fraudulent['Date'], format=\"%d/%m/%Y\")\n"
     ]
    }
   ],
   "source": [
    "df_fraudulent['Date'] = pd.to_datetime(df_fraudulent['Date'], format=\"%d/%m/%Y\")"
   ]
  },
  {
   "cell_type": "code",
   "execution_count": 91,
   "metadata": {},
   "outputs": [
    {
     "data": {
      "text/plain": [
       "Transaction ID         28\n",
       "Date                   28\n",
       "Time                   28\n",
       "Card Type              28\n",
       "Entry Mode             28\n",
       "Amount                 28\n",
       "Transaction Type       28\n",
       "Merchant Group         28\n",
       "Transaction Country    28\n",
       "Shipping Address       28\n",
       "Billing Address        28\n",
       "Gender                 28\n",
       "Age                    28\n",
       "Issuing Bank           28\n",
       "Fraudulent             28\n",
       "dtype: int64"
      ]
     },
     "execution_count": 91,
     "metadata": {},
     "output_type": "execute_result"
    }
   ],
   "source": [
    "df_fraudulent[df_fraudulent['Date'].dt.month == 10].count()"
   ]
  },
  {
   "cell_type": "code",
   "execution_count": 92,
   "metadata": {},
   "outputs": [
    {
     "data": {
      "text/plain": [
       "Transaction ID         14\n",
       "Date                   14\n",
       "Time                   14\n",
       "Card Type              14\n",
       "Entry Mode             14\n",
       "Amount                 14\n",
       "Transaction Type       14\n",
       "Merchant Group         14\n",
       "Transaction Country    14\n",
       "Shipping Address       14\n",
       "Billing Address        14\n",
       "Gender                 14\n",
       "Age                    14\n",
       "Issuing Bank           14\n",
       "Fraudulent             14\n",
       "dtype: int64"
      ]
     },
     "execution_count": 92,
     "metadata": {},
     "output_type": "execute_result"
    }
   ],
   "source": [
    "df_fraudulent[df_fraudulent['Date'].dt.month == 9].count()"
   ]
  },
  {
   "cell_type": "code",
   "execution_count": 93,
   "metadata": {},
   "outputs": [],
   "source": [
    "df['Date'] = pd.to_datetime(df['Date'], format='%d/%m/%Y')"
   ]
  },
  {
   "cell_type": "code",
   "execution_count": 94,
   "metadata": {},
   "outputs": [
    {
     "name": "stderr",
     "output_type": "stream",
     "text": [
      "/tmp/ipykernel_43004/2622803596.py:1: SettingWithCopyWarning: \n",
      "A value is trying to be set on a copy of a slice from a DataFrame.\n",
      "Try using .loc[row_indexer,col_indexer] = value instead\n",
      "\n",
      "See the caveats in the documentation: https://pandas.pydata.org/pandas-docs/stable/user_guide/indexing.html#returning-a-view-versus-a-copy\n",
      "  df_fraudulent['day_of_week'] = df['Date'].dt.day_of_week\n"
     ]
    }
   ],
   "source": [
    "df_fraudulent['day_of_week'] = df['Date'].dt.day_of_week"
   ]
  },
  {
   "cell_type": "code",
   "execution_count": 95,
   "metadata": {},
   "outputs": [
    {
     "name": "stderr",
     "output_type": "stream",
     "text": [
      "/tmp/ipykernel_43004/3232240021.py:2: SettingWithCopyWarning: \n",
      "A value is trying to be set on a copy of a slice from a DataFrame.\n",
      "Try using .loc[row_indexer,col_indexer] = value instead\n",
      "\n",
      "See the caveats in the documentation: https://pandas.pydata.org/pandas-docs/stable/user_guide/indexing.html#returning-a-view-versus-a-copy\n",
      "  df_fraudulent['days_name'] = df_fraudulent['day_of_week'].map(day_names)\n"
     ]
    }
   ],
   "source": [
    "day_names = {0: 'Segunda', 1: 'Terça', 2: 'Quarta', 3: 'Quinta', 4: 'Sexta', 5: 'Sábado', 6: 'Domingo'}\n",
    "df_fraudulent['days_name'] = df_fraudulent['day_of_week'].map(day_names)"
   ]
  },
  {
   "cell_type": "code",
   "execution_count": 96,
   "metadata": {},
   "outputs": [
    {
     "name": "stderr",
     "output_type": "stream",
     "text": [
      "/home/gseganzerla/.cache/pypoetry/virtualenvs/data-science-3_EHRu8F-py3.11/lib/python3.11/site-packages/seaborn/_oldcore.py:1498: FutureWarning: is_categorical_dtype is deprecated and will be removed in a future version. Use isinstance(dtype, CategoricalDtype) instead\n",
      "  if pd.api.types.is_categorical_dtype(vector):\n",
      "/home/gseganzerla/.cache/pypoetry/virtualenvs/data-science-3_EHRu8F-py3.11/lib/python3.11/site-packages/seaborn/_oldcore.py:1498: FutureWarning: is_categorical_dtype is deprecated and will be removed in a future version. Use isinstance(dtype, CategoricalDtype) instead\n",
      "  if pd.api.types.is_categorical_dtype(vector):\n",
      "/home/gseganzerla/.cache/pypoetry/virtualenvs/data-science-3_EHRu8F-py3.11/lib/python3.11/site-packages/seaborn/_oldcore.py:1498: FutureWarning: is_categorical_dtype is deprecated and will be removed in a future version. Use isinstance(dtype, CategoricalDtype) instead\n",
      "  if pd.api.types.is_categorical_dtype(vector):\n"
     ]
    },
    {
     "data": {
      "text/plain": [
       "<Axes: xlabel='days_name', ylabel='count'>"
      ]
     },
     "execution_count": 96,
     "metadata": {},
     "output_type": "execute_result"
    },
    {
     "data": {
      "image/png": "[encoded data removed]",
      "text/plain": [
       "<Figure size 640x480 with 1 Axes>"
      ]
     },
     "metadata": {},
     "output_type": "display_data"
    }
   ],
   "source": [
    "sns.countplot(df_fraudulent, x=df_fraudulent['days_name'])"
   ]
  },
  {
   "cell_type": "markdown",
   "metadata": {},
   "source": [
    "# Time"
   ]
  },
  {
   "cell_type": "code",
   "execution_count": 97,
   "metadata": {},
   "outputs": [],
   "source": [
    "df['Time'] = df['Time'].apply(lambda x: x[0:2])\n"
   ]
  },
  {
   "cell_type": "code",
   "execution_count": 98,
   "metadata": {},
   "outputs": [
    {
     "name": "stderr",
     "output_type": "stream",
     "text": [
      "/home/gseganzerla/.cache/pypoetry/virtualenvs/data-science-3_EHRu8F-py3.11/lib/python3.11/site-packages/seaborn/_oldcore.py:1498: FutureWarning: is_categorical_dtype is deprecated and will be removed in a future version. Use isinstance(dtype, CategoricalDtype) instead\n",
      "  if pd.api.types.is_categorical_dtype(vector):\n",
      "/home/gseganzerla/.cache/pypoetry/virtualenvs/data-science-3_EHRu8F-py3.11/lib/python3.11/site-packages/seaborn/_oldcore.py:1498: FutureWarning: is_categorical_dtype is deprecated and will be removed in a future version. Use isinstance(dtype, CategoricalDtype) instead\n",
      "  if pd.api.types.is_categorical_dtype(vector):\n",
      "/home/gseganzerla/.cache/pypoetry/virtualenvs/data-science-3_EHRu8F-py3.11/lib/python3.11/site-packages/seaborn/_oldcore.py:1119: FutureWarning: use_inf_as_na option is deprecated and will be removed in a future version. Convert inf values to NaN before operating instead.\n",
      "  with pd.option_context('mode.use_inf_as_na', True):\n"
     ]
    },
    {
     "data": {
      "text/plain": [
       "<Axes: xlabel='Time', ylabel='Count'>"
      ]
     },
     "execution_count": 98,
     "metadata": {},
     "output_type": "execute_result"
    },
    {
     "data": {
      "image/png": "[encoded data removed]",
      "text/plain": [
       "<Figure size 640x480 with 1 Axes>"
      ]
     },
     "metadata": {},
     "output_type": "display_data"
    }
   ],
   "source": [
    "sns.histplot(df, x=df['Time'])"
   ]
  },
  {
   "cell_type": "markdown",
   "metadata": {},
   "source": [
    "# Summary"
   ]
  },
  {
   "cell_type": "code",
   "execution_count": 99,
   "metadata": {},
   "outputs": [
    {
     "data": {
      "text/html": [
       "<div>\n",
       "<style scoped>\n",
       "    .dataframe tbody tr th:only-of-type {\n",
       "        vertical-align: middle;\n",
       "    }\n",
       "\n",
       "    .dataframe tbody tr th {\n",
       "        vertical-align: top;\n",
       "    }\n",
       "\n",
       "    .dataframe thead th {\n",
       "        text-align: right;\n",
       "    }\n",
       "</style>\n",
       "<table border=\"1\" class=\"dataframe\">\n",
       "  <thead>\n",
       "    <tr style=\"text-align: right;\">\n",
       "      <th></th>\n",
       "      <th>Transaction ID</th>\n",
       "      <th>Date</th>\n",
       "      <th>Amount</th>\n",
       "      <th>Age</th>\n",
       "    </tr>\n",
       "  </thead>\n",
       "  <tbody>\n",
       "    <tr>\n",
       "      <th>count</th>\n",
       "      <td>1000.000000</td>\n",
       "      <td>1000</td>\n",
       "      <td>1000.000000</td>\n",
       "      <td>1000.000000</td>\n",
       "    </tr>\n",
       "    <tr>\n",
       "      <th>mean</th>\n",
       "      <td>500.500000</td>\n",
       "      <td>2023-10-04 11:55:40.800000</td>\n",
       "      <td>266.140270</td>\n",
       "      <td>44.657000</td>\n",
       "    </tr>\n",
       "    <tr>\n",
       "      <th>min</th>\n",
       "      <td>1.000000</td>\n",
       "      <td>2023-09-17 00:00:00</td>\n",
       "      <td>20.180000</td>\n",
       "      <td>18.000000</td>\n",
       "    </tr>\n",
       "    <tr>\n",
       "      <th>25%</th>\n",
       "      <td>250.750000</td>\n",
       "      <td>2023-09-25 00:00:00</td>\n",
       "      <td>147.895000</td>\n",
       "      <td>31.000000</td>\n",
       "    </tr>\n",
       "    <tr>\n",
       "      <th>50%</th>\n",
       "      <td>500.500000</td>\n",
       "      <td>2023-10-04 00:00:00</td>\n",
       "      <td>268.365000</td>\n",
       "      <td>45.500000</td>\n",
       "    </tr>\n",
       "    <tr>\n",
       "      <th>75%</th>\n",
       "      <td>750.250000</td>\n",
       "      <td>2023-10-13 00:00:00</td>\n",
       "      <td>380.532500</td>\n",
       "      <td>57.000000</td>\n",
       "    </tr>\n",
       "    <tr>\n",
       "      <th>max</th>\n",
       "      <td>1000.000000</td>\n",
       "      <td>2023-10-22 00:00:00</td>\n",
       "      <td>499.690000</td>\n",
       "      <td>70.000000</td>\n",
       "    </tr>\n",
       "    <tr>\n",
       "      <th>std</th>\n",
       "      <td>288.819436</td>\n",
       "      <td>NaN</td>\n",
       "      <td>138.775169</td>\n",
       "      <td>15.177606</td>\n",
       "    </tr>\n",
       "  </tbody>\n",
       "</table>\n",
       "</div>"
      ],
      "text/plain": [
       "       Transaction ID                        Date       Amount          Age\n",
       "count     1000.000000                        1000  1000.000000  1000.000000\n",
       "mean       500.500000  2023-10-04 11:55:40.800000   266.140270    44.657000\n",
       "min          1.000000         2023-09-17 00:00:00    20.180000    18.000000\n",
       "25%        250.750000         2023-09-25 00:00:00   147.895000    31.000000\n",
       "50%        500.500000         2023-10-04 00:00:00   268.365000    45.500000\n",
       "75%        750.250000         2023-10-13 00:00:00   380.532500    57.000000\n",
       "max       1000.000000         2023-10-22 00:00:00   499.690000    70.000000\n",
       "std        288.819436                         NaN   138.775169    15.177606"
      ]
     },
     "execution_count": 99,
     "metadata": {},
     "output_type": "execute_result"
    }
   ],
   "source": [
    "df.describe()"
   ]
  },
  {
   "cell_type": "markdown",
   "metadata": {},
   "source": [
    "# 2 Pre-Processing"
   ]
  },
  {
   "cell_type": "code",
   "execution_count": 100,
   "metadata": {},
   "outputs": [],
   "source": [
    "df.drop(['Transaction ID', 'Shipping Address', 'Billing Address'], axis='columns', inplace=True)"
   ]
  },
  {
   "cell_type": "code",
   "execution_count": 101,
   "metadata": {},
   "outputs": [
    {
     "data": {
      "text/html": [
       "<div>\n",
       "<style scoped>\n",
       "    .dataframe tbody tr th:only-of-type {\n",
       "        vertical-align: middle;\n",
       "    }\n",
       "\n",
       "    .dataframe tbody tr th {\n",
       "        vertical-align: top;\n",
       "    }\n",
       "\n",
       "    .dataframe thead th {\n",
       "        text-align: right;\n",
       "    }\n",
       "</style>\n",
       "<table border=\"1\" class=\"dataframe\">\n",
       "  <thead>\n",
       "    <tr style=\"text-align: right;\">\n",
       "      <th></th>\n",
       "      <th>Date</th>\n",
       "      <th>Time</th>\n",
       "      <th>Card Type</th>\n",
       "      <th>Entry Mode</th>\n",
       "      <th>Amount</th>\n",
       "      <th>Transaction Type</th>\n",
       "      <th>Merchant Group</th>\n",
       "      <th>Transaction Country</th>\n",
       "      <th>Gender</th>\n",
       "      <th>Age</th>\n",
       "      <th>Issuing Bank</th>\n",
       "      <th>Fraudulent</th>\n",
       "    </tr>\n",
       "  </thead>\n",
       "  <tbody>\n",
       "    <tr>\n",
       "      <th>0</th>\n",
       "      <td>2023-10-19</td>\n",
       "      <td>05</td>\n",
       "      <td>MasterCard</td>\n",
       "      <td>Tap</td>\n",
       "      <td>391.56</td>\n",
       "      <td>POS</td>\n",
       "      <td>Clothing</td>\n",
       "      <td>Italy</td>\n",
       "      <td>Female</td>\n",
       "      <td>55</td>\n",
       "      <td>XYZ Bank</td>\n",
       "      <td>No</td>\n",
       "    </tr>\n",
       "    <tr>\n",
       "      <th>1</th>\n",
       "      <td>2023-10-16</td>\n",
       "      <td>12</td>\n",
       "      <td>MasterCard</td>\n",
       "      <td>Tap</td>\n",
       "      <td>167.67</td>\n",
       "      <td>Online</td>\n",
       "      <td>Clothing</td>\n",
       "      <td>France</td>\n",
       "      <td>Male</td>\n",
       "      <td>37</td>\n",
       "      <td>DEF Bank</td>\n",
       "      <td>No</td>\n",
       "    </tr>\n",
       "    <tr>\n",
       "      <th>2</th>\n",
       "      <td>2023-09-29</td>\n",
       "      <td>07</td>\n",
       "      <td>MasterCard</td>\n",
       "      <td>PIN</td>\n",
       "      <td>126.24</td>\n",
       "      <td>Online</td>\n",
       "      <td>Electronics</td>\n",
       "      <td>Spain</td>\n",
       "      <td>Male</td>\n",
       "      <td>53</td>\n",
       "      <td>ABC Bank</td>\n",
       "      <td>No</td>\n",
       "    </tr>\n",
       "    <tr>\n",
       "      <th>3</th>\n",
       "      <td>2023-10-13</td>\n",
       "      <td>00</td>\n",
       "      <td>MasterCard</td>\n",
       "      <td>Tap</td>\n",
       "      <td>496.80</td>\n",
       "      <td>Online</td>\n",
       "      <td>Electronics</td>\n",
       "      <td>UK</td>\n",
       "      <td>Male</td>\n",
       "      <td>21</td>\n",
       "      <td>DEF Bank</td>\n",
       "      <td>No</td>\n",
       "    </tr>\n",
       "    <tr>\n",
       "      <th>4</th>\n",
       "      <td>2023-10-02</td>\n",
       "      <td>23</td>\n",
       "      <td>MasterCard</td>\n",
       "      <td>Tap</td>\n",
       "      <td>446.88</td>\n",
       "      <td>POS</td>\n",
       "      <td>Grocery</td>\n",
       "      <td>France</td>\n",
       "      <td>Male</td>\n",
       "      <td>52</td>\n",
       "      <td>XYZ Bank</td>\n",
       "      <td>No</td>\n",
       "    </tr>\n",
       "  </tbody>\n",
       "</table>\n",
       "</div>"
      ],
      "text/plain": [
       "        Date Time   Card Type Entry Mode  Amount Transaction Type  \\\n",
       "0 2023-10-19   05  MasterCard        Tap  391.56              POS   \n",
       "1 2023-10-16   12  MasterCard        Tap  167.67           Online   \n",
       "2 2023-09-29   07  MasterCard        PIN  126.24           Online   \n",
       "3 2023-10-13   00  MasterCard        Tap  496.80           Online   \n",
       "4 2023-10-02   23  MasterCard        Tap  446.88              POS   \n",
       "\n",
       "  Merchant Group Transaction Country  Gender  Age Issuing Bank Fraudulent  \n",
       "0       Clothing               Italy  Female   55     XYZ Bank         No  \n",
       "1       Clothing              France    Male   37     DEF Bank         No  \n",
       "2    Electronics               Spain    Male   53     ABC Bank         No  \n",
       "3    Electronics                  UK    Male   21     DEF Bank         No  \n",
       "4        Grocery              France    Male   52     XYZ Bank         No  "
      ]
     },
     "execution_count": 101,
     "metadata": {},
     "output_type": "execute_result"
    }
   ],
   "source": [
    "df.head()"
   ]
  },
  {
   "cell_type": "code",
   "execution_count": 102,
   "metadata": {},
   "outputs": [
    {
     "data": {
      "text/html": [
       "<div>\n",
       "<style scoped>\n",
       "    .dataframe tbody tr th:only-of-type {\n",
       "        vertical-align: middle;\n",
       "    }\n",
       "\n",
       "    .dataframe tbody tr th {\n",
       "        vertical-align: top;\n",
       "    }\n",
       "\n",
       "    .dataframe thead th {\n",
       "        text-align: right;\n",
       "    }\n",
       "</style>\n",
       "<table border=\"1\" class=\"dataframe\">\n",
       "  <thead>\n",
       "    <tr style=\"text-align: right;\">\n",
       "      <th></th>\n",
       "      <th>Time</th>\n",
       "      <th>Card Type</th>\n",
       "      <th>Entry Mode</th>\n",
       "      <th>Amount</th>\n",
       "      <th>Transaction Type</th>\n",
       "      <th>Merchant Group</th>\n",
       "      <th>Transaction Country</th>\n",
       "      <th>Gender</th>\n",
       "      <th>Age</th>\n",
       "      <th>Issuing Bank</th>\n",
       "    </tr>\n",
       "  </thead>\n",
       "  <tbody>\n",
       "    <tr>\n",
       "      <th>0</th>\n",
       "      <td>05</td>\n",
       "      <td>MasterCard</td>\n",
       "      <td>Tap</td>\n",
       "      <td>391.56</td>\n",
       "      <td>POS</td>\n",
       "      <td>Clothing</td>\n",
       "      <td>Italy</td>\n",
       "      <td>Female</td>\n",
       "      <td>55</td>\n",
       "      <td>XYZ Bank</td>\n",
       "    </tr>\n",
       "    <tr>\n",
       "      <th>1</th>\n",
       "      <td>12</td>\n",
       "      <td>MasterCard</td>\n",
       "      <td>Tap</td>\n",
       "      <td>167.67</td>\n",
       "      <td>Online</td>\n",
       "      <td>Clothing</td>\n",
       "      <td>France</td>\n",
       "      <td>Male</td>\n",
       "      <td>37</td>\n",
       "      <td>DEF Bank</td>\n",
       "    </tr>\n",
       "    <tr>\n",
       "      <th>2</th>\n",
       "      <td>07</td>\n",
       "      <td>MasterCard</td>\n",
       "      <td>PIN</td>\n",
       "      <td>126.24</td>\n",
       "      <td>Online</td>\n",
       "      <td>Electronics</td>\n",
       "      <td>Spain</td>\n",
       "      <td>Male</td>\n",
       "      <td>53</td>\n",
       "      <td>ABC Bank</td>\n",
       "    </tr>\n",
       "    <tr>\n",
       "      <th>3</th>\n",
       "      <td>00</td>\n",
       "      <td>MasterCard</td>\n",
       "      <td>Tap</td>\n",
       "      <td>496.80</td>\n",
       "      <td>Online</td>\n",
       "      <td>Electronics</td>\n",
       "      <td>UK</td>\n",
       "      <td>Male</td>\n",
       "      <td>21</td>\n",
       "      <td>DEF Bank</td>\n",
       "    </tr>\n",
       "    <tr>\n",
       "      <th>4</th>\n",
       "      <td>23</td>\n",
       "      <td>MasterCard</td>\n",
       "      <td>Tap</td>\n",
       "      <td>446.88</td>\n",
       "      <td>POS</td>\n",
       "      <td>Grocery</td>\n",
       "      <td>France</td>\n",
       "      <td>Male</td>\n",
       "      <td>52</td>\n",
       "      <td>XYZ Bank</td>\n",
       "    </tr>\n",
       "    <tr>\n",
       "      <th>...</th>\n",
       "      <td>...</td>\n",
       "      <td>...</td>\n",
       "      <td>...</td>\n",
       "      <td>...</td>\n",
       "      <td>...</td>\n",
       "      <td>...</td>\n",
       "      <td>...</td>\n",
       "      <td>...</td>\n",
       "      <td>...</td>\n",
       "      <td>...</td>\n",
       "    </tr>\n",
       "    <tr>\n",
       "      <th>995</th>\n",
       "      <td>10</td>\n",
       "      <td>Visa</td>\n",
       "      <td>PIN</td>\n",
       "      <td>105.81</td>\n",
       "      <td>Online</td>\n",
       "      <td>Clothing</td>\n",
       "      <td>Canada</td>\n",
       "      <td>Female</td>\n",
       "      <td>46</td>\n",
       "      <td>XYZ Bank</td>\n",
       "    </tr>\n",
       "    <tr>\n",
       "      <th>996</th>\n",
       "      <td>12</td>\n",
       "      <td>MasterCard</td>\n",
       "      <td>PIN</td>\n",
       "      <td>360.21</td>\n",
       "      <td>Online</td>\n",
       "      <td>Food</td>\n",
       "      <td>Germany</td>\n",
       "      <td>Female</td>\n",
       "      <td>61</td>\n",
       "      <td>DEF Bank</td>\n",
       "    </tr>\n",
       "    <tr>\n",
       "      <th>997</th>\n",
       "      <td>02</td>\n",
       "      <td>Visa</td>\n",
       "      <td>PIN</td>\n",
       "      <td>260.24</td>\n",
       "      <td>ATM</td>\n",
       "      <td>Clothing</td>\n",
       "      <td>France</td>\n",
       "      <td>Male</td>\n",
       "      <td>38</td>\n",
       "      <td>DEF Bank</td>\n",
       "    </tr>\n",
       "    <tr>\n",
       "      <th>998</th>\n",
       "      <td>13</td>\n",
       "      <td>Visa</td>\n",
       "      <td>Tap</td>\n",
       "      <td>416.61</td>\n",
       "      <td>POS</td>\n",
       "      <td>ATM Withdrawal</td>\n",
       "      <td>France</td>\n",
       "      <td>Male</td>\n",
       "      <td>39</td>\n",
       "      <td>ABC Bank</td>\n",
       "    </tr>\n",
       "    <tr>\n",
       "      <th>999</th>\n",
       "      <td>11</td>\n",
       "      <td>Visa</td>\n",
       "      <td>PIN</td>\n",
       "      <td>111.01</td>\n",
       "      <td>ATM</td>\n",
       "      <td>Grocery</td>\n",
       "      <td>Germany</td>\n",
       "      <td>Female</td>\n",
       "      <td>68</td>\n",
       "      <td>ABC Bank</td>\n",
       "    </tr>\n",
       "  </tbody>\n",
       "</table>\n",
       "<p>1000 rows × 10 columns</p>\n",
       "</div>"
      ],
      "text/plain": [
       "    Time   Card Type Entry Mode  Amount Transaction Type  Merchant Group  \\\n",
       "0     05  MasterCard        Tap  391.56              POS        Clothing   \n",
       "1     12  MasterCard        Tap  167.67           Online        Clothing   \n",
       "2     07  MasterCard        PIN  126.24           Online     Electronics   \n",
       "3     00  MasterCard        Tap  496.80           Online     Electronics   \n",
       "4     23  MasterCard        Tap  446.88              POS         Grocery   \n",
       "..   ...         ...        ...     ...              ...             ...   \n",
       "995   10        Visa        PIN  105.81           Online        Clothing   \n",
       "996   12  MasterCard        PIN  360.21           Online            Food   \n",
       "997   02        Visa        PIN  260.24              ATM        Clothing   \n",
       "998   13        Visa        Tap  416.61              POS  ATM Withdrawal   \n",
       "999   11        Visa        PIN  111.01              ATM         Grocery   \n",
       "\n",
       "    Transaction Country  Gender  Age Issuing Bank  \n",
       "0                 Italy  Female   55     XYZ Bank  \n",
       "1                France    Male   37     DEF Bank  \n",
       "2                 Spain    Male   53     ABC Bank  \n",
       "3                    UK    Male   21     DEF Bank  \n",
       "4                France    Male   52     XYZ Bank  \n",
       "..                  ...     ...  ...          ...  \n",
       "995              Canada  Female   46     XYZ Bank  \n",
       "996             Germany  Female   61     DEF Bank  \n",
       "997              France    Male   38     DEF Bank  \n",
       "998              France    Male   39     ABC Bank  \n",
       "999             Germany  Female   68     ABC Bank  \n",
       "\n",
       "[1000 rows x 10 columns]"
      ]
     },
     "execution_count": 102,
     "metadata": {},
     "output_type": "execute_result"
    }
   ],
   "source": [
    "X_fraudulent = df.iloc[:, 1:11]\n",
    "X_fraudulent"
   ]
  },
  {
   "cell_type": "code",
   "execution_count": 103,
   "metadata": {},
   "outputs": [
    {
     "data": {
      "text/plain": [
       "0      No\n",
       "1      No\n",
       "2      No\n",
       "3      No\n",
       "4      No\n",
       "       ..\n",
       "995    No\n",
       "996    No\n",
       "997    No\n",
       "998    No\n",
       "999    No\n",
       "Name: Fraudulent, Length: 1000, dtype: object"
      ]
     },
     "execution_count": 103,
     "metadata": {},
     "output_type": "execute_result"
    }
   ],
   "source": [
    "y_fraudulent = df.iloc[:, 11]\n",
    "y_fraudulent"
   ]
  },
  {
   "cell_type": "code",
   "execution_count": 104,
   "metadata": {},
   "outputs": [
    {
     "data": {
      "text/plain": [
       "Index(['Date', 'Time', 'Card Type', 'Entry Mode', 'Amount', 'Transaction Type',\n",
       "       'Merchant Group', 'Transaction Country', 'Gender', 'Age',\n",
       "       'Issuing Bank', 'Fraudulent'],\n",
       "      dtype='object')"
      ]
     },
     "execution_count": 104,
     "metadata": {},
     "output_type": "execute_result"
    }
   ],
   "source": [
    "df.columns"
   ]
  },
  {
   "cell_type": "code",
   "execution_count": 105,
   "metadata": {},
   "outputs": [],
   "source": [
    "features_to_transform = [1, 2, 4, 5, 6, 7, 9]\n",
    "features_to_transform = ['Card Type', 'Entry Mode', 'Transaction Type',\n",
    "       'Merchant Group', 'Transaction Country', 'Gender',\n",
    "       'Issuing Bank', 'Date', 'Time']"
   ]
  },
  {
   "cell_type": "code",
   "execution_count": 106,
   "metadata": {},
   "outputs": [],
   "source": [
    "# X_fraudulent[0]"
   ]
  },
  {
   "cell_type": "code",
   "execution_count": 107,
   "metadata": {},
   "outputs": [],
   "source": [
    "# X_fraudulent[0][9]"
   ]
  },
  {
   "cell_type": "code",
   "execution_count": 108,
   "metadata": {},
   "outputs": [
    {
     "data": {
      "text/html": [
       "<div>\n",
       "<style scoped>\n",
       "    .dataframe tbody tr th:only-of-type {\n",
       "        vertical-align: middle;\n",
       "    }\n",
       "\n",
       "    .dataframe tbody tr th {\n",
       "        vertical-align: top;\n",
       "    }\n",
       "\n",
       "    .dataframe thead th {\n",
       "        text-align: right;\n",
       "    }\n",
       "</style>\n",
       "<table border=\"1\" class=\"dataframe\">\n",
       "  <thead>\n",
       "    <tr style=\"text-align: right;\">\n",
       "      <th></th>\n",
       "      <th>Amount</th>\n",
       "      <th>Age</th>\n",
       "      <th>Fraudulent</th>\n",
       "      <th>Card Type_MasterCard</th>\n",
       "      <th>Card Type_Visa</th>\n",
       "      <th>Entry Mode_PIN</th>\n",
       "      <th>Entry Mode_Tap</th>\n",
       "      <th>Transaction Type_ATM</th>\n",
       "      <th>Transaction Type_Online</th>\n",
       "      <th>Transaction Type_POS</th>\n",
       "      <th>...</th>\n",
       "      <th>Time_14</th>\n",
       "      <th>Time_15</th>\n",
       "      <th>Time_16</th>\n",
       "      <th>Time_17</th>\n",
       "      <th>Time_18</th>\n",
       "      <th>Time_19</th>\n",
       "      <th>Time_20</th>\n",
       "      <th>Time_21</th>\n",
       "      <th>Time_22</th>\n",
       "      <th>Time_23</th>\n",
       "    </tr>\n",
       "  </thead>\n",
       "  <tbody>\n",
       "    <tr>\n",
       "      <th>0</th>\n",
       "      <td>391.56</td>\n",
       "      <td>55</td>\n",
       "      <td>No</td>\n",
       "      <td>1</td>\n",
       "      <td>0</td>\n",
       "      <td>0</td>\n",
       "      <td>1</td>\n",
       "      <td>0</td>\n",
       "      <td>0</td>\n",
       "      <td>1</td>\n",
       "      <td>...</td>\n",
       "      <td>0</td>\n",
       "      <td>0</td>\n",
       "      <td>0</td>\n",
       "      <td>0</td>\n",
       "      <td>0</td>\n",
       "      <td>0</td>\n",
       "      <td>0</td>\n",
       "      <td>0</td>\n",
       "      <td>0</td>\n",
       "      <td>0</td>\n",
       "    </tr>\n",
       "    <tr>\n",
       "      <th>1</th>\n",
       "      <td>167.67</td>\n",
       "      <td>37</td>\n",
       "      <td>No</td>\n",
       "      <td>1</td>\n",
       "      <td>0</td>\n",
       "      <td>0</td>\n",
       "      <td>1</td>\n",
       "      <td>0</td>\n",
       "      <td>1</td>\n",
       "      <td>0</td>\n",
       "      <td>...</td>\n",
       "      <td>0</td>\n",
       "      <td>0</td>\n",
       "      <td>0</td>\n",
       "      <td>0</td>\n",
       "      <td>0</td>\n",
       "      <td>0</td>\n",
       "      <td>0</td>\n",
       "      <td>0</td>\n",
       "      <td>0</td>\n",
       "      <td>0</td>\n",
       "    </tr>\n",
       "    <tr>\n",
       "      <th>2</th>\n",
       "      <td>126.24</td>\n",
       "      <td>53</td>\n",
       "      <td>No</td>\n",
       "      <td>1</td>\n",
       "      <td>0</td>\n",
       "      <td>1</td>\n",
       "      <td>0</td>\n",
       "      <td>0</td>\n",
       "      <td>1</td>\n",
       "      <td>0</td>\n",
       "      <td>...</td>\n",
       "      <td>0</td>\n",
       "      <td>0</td>\n",
       "      <td>0</td>\n",
       "      <td>0</td>\n",
       "      <td>0</td>\n",
       "      <td>0</td>\n",
       "      <td>0</td>\n",
       "      <td>0</td>\n",
       "      <td>0</td>\n",
       "      <td>0</td>\n",
       "    </tr>\n",
       "    <tr>\n",
       "      <th>3</th>\n",
       "      <td>496.80</td>\n",
       "      <td>21</td>\n",
       "      <td>No</td>\n",
       "      <td>1</td>\n",
       "      <td>0</td>\n",
       "      <td>0</td>\n",
       "      <td>1</td>\n",
       "      <td>0</td>\n",
       "      <td>1</td>\n",
       "      <td>0</td>\n",
       "      <td>...</td>\n",
       "      <td>0</td>\n",
       "      <td>0</td>\n",
       "      <td>0</td>\n",
       "      <td>0</td>\n",
       "      <td>0</td>\n",
       "      <td>0</td>\n",
       "      <td>0</td>\n",
       "      <td>0</td>\n",
       "      <td>0</td>\n",
       "      <td>0</td>\n",
       "    </tr>\n",
       "    <tr>\n",
       "      <th>4</th>\n",
       "      <td>446.88</td>\n",
       "      <td>52</td>\n",
       "      <td>No</td>\n",
       "      <td>1</td>\n",
       "      <td>0</td>\n",
       "      <td>0</td>\n",
       "      <td>1</td>\n",
       "      <td>0</td>\n",
       "      <td>0</td>\n",
       "      <td>1</td>\n",
       "      <td>...</td>\n",
       "      <td>0</td>\n",
       "      <td>0</td>\n",
       "      <td>0</td>\n",
       "      <td>0</td>\n",
       "      <td>0</td>\n",
       "      <td>0</td>\n",
       "      <td>0</td>\n",
       "      <td>0</td>\n",
       "      <td>0</td>\n",
       "      <td>1</td>\n",
       "    </tr>\n",
       "  </tbody>\n",
       "</table>\n",
       "<p>5 rows × 88 columns</p>\n",
       "</div>"
      ],
      "text/plain": [
       "   Amount  Age Fraudulent  Card Type_MasterCard  Card Type_Visa  \\\n",
       "0  391.56   55         No                     1               0   \n",
       "1  167.67   37         No                     1               0   \n",
       "2  126.24   53         No                     1               0   \n",
       "3  496.80   21         No                     1               0   \n",
       "4  446.88   52         No                     1               0   \n",
       "\n",
       "   Entry Mode_PIN  Entry Mode_Tap  Transaction Type_ATM  \\\n",
       "0               0               1                     0   \n",
       "1               0               1                     0   \n",
       "2               1               0                     0   \n",
       "3               0               1                     0   \n",
       "4               0               1                     0   \n",
       "\n",
       "   Transaction Type_Online  Transaction Type_POS  ...  Time_14  Time_15  \\\n",
       "0                        0                     1  ...        0        0   \n",
       "1                        1                     0  ...        0        0   \n",
       "2                        1                     0  ...        0        0   \n",
       "3                        1                     0  ...        0        0   \n",
       "4                        0                     1  ...        0        0   \n",
       "\n",
       "   Time_16  Time_17  Time_18  Time_19  Time_20  Time_21  Time_22  Time_23  \n",
       "0        0        0        0        0        0        0        0        0  \n",
       "1        0        0        0        0        0        0        0        0  \n",
       "2        0        0        0        0        0        0        0        0  \n",
       "3        0        0        0        0        0        0        0        0  \n",
       "4        0        0        0        0        0        0        0        1  \n",
       "\n",
       "[5 rows x 88 columns]"
      ]
     },
     "execution_count": 108,
     "metadata": {},
     "output_type": "execute_result"
    }
   ],
   "source": [
    "# columns_transformer = ColumnTransformer(transformers=[('OneHot', OneHotEncoder(), features_to_transform)], remainder='passthrough')\n",
    "# X_fraudulent = columns_transformer.fit_transform(X_fraudulent)\n",
    "\n",
    "\n",
    "# X_fraudulent\n",
    "\n",
    "dummies = pd.get_dummies(df, columns=features_to_transform, dtype=int)\n",
    "dummies.head()\n"
   ]
  },
  {
   "cell_type": "code",
   "execution_count": 109,
   "metadata": {},
   "outputs": [
    {
     "data": {
      "text/html": [
       "<div>\n",
       "<style scoped>\n",
       "    .dataframe tbody tr th:only-of-type {\n",
       "        vertical-align: middle;\n",
       "    }\n",
       "\n",
       "    .dataframe tbody tr th {\n",
       "        vertical-align: top;\n",
       "    }\n",
       "\n",
       "    .dataframe thead th {\n",
       "        text-align: right;\n",
       "    }\n",
       "</style>\n",
       "<table border=\"1\" class=\"dataframe\">\n",
       "  <thead>\n",
       "    <tr style=\"text-align: right;\">\n",
       "      <th></th>\n",
       "      <th>Amount</th>\n",
       "      <th>Age</th>\n",
       "    </tr>\n",
       "  </thead>\n",
       "  <tbody>\n",
       "    <tr>\n",
       "      <th>0</th>\n",
       "      <td>391.56</td>\n",
       "      <td>55</td>\n",
       "    </tr>\n",
       "    <tr>\n",
       "      <th>1</th>\n",
       "      <td>167.67</td>\n",
       "      <td>37</td>\n",
       "    </tr>\n",
       "    <tr>\n",
       "      <th>2</th>\n",
       "      <td>126.24</td>\n",
       "      <td>53</td>\n",
       "    </tr>\n",
       "    <tr>\n",
       "      <th>3</th>\n",
       "      <td>496.80</td>\n",
       "      <td>21</td>\n",
       "    </tr>\n",
       "    <tr>\n",
       "      <th>4</th>\n",
       "      <td>446.88</td>\n",
       "      <td>52</td>\n",
       "    </tr>\n",
       "    <tr>\n",
       "      <th>...</th>\n",
       "      <td>...</td>\n",
       "      <td>...</td>\n",
       "    </tr>\n",
       "    <tr>\n",
       "      <th>995</th>\n",
       "      <td>105.81</td>\n",
       "      <td>46</td>\n",
       "    </tr>\n",
       "    <tr>\n",
       "      <th>996</th>\n",
       "      <td>360.21</td>\n",
       "      <td>61</td>\n",
       "    </tr>\n",
       "    <tr>\n",
       "      <th>997</th>\n",
       "      <td>260.24</td>\n",
       "      <td>38</td>\n",
       "    </tr>\n",
       "    <tr>\n",
       "      <th>998</th>\n",
       "      <td>416.61</td>\n",
       "      <td>39</td>\n",
       "    </tr>\n",
       "    <tr>\n",
       "      <th>999</th>\n",
       "      <td>111.01</td>\n",
       "      <td>68</td>\n",
       "    </tr>\n",
       "  </tbody>\n",
       "</table>\n",
       "<p>1000 rows × 2 columns</p>\n",
       "</div>"
      ],
      "text/plain": [
       "     Amount  Age\n",
       "0    391.56   55\n",
       "1    167.67   37\n",
       "2    126.24   53\n",
       "3    496.80   21\n",
       "4    446.88   52\n",
       "..      ...  ...\n",
       "995  105.81   46\n",
       "996  360.21   61\n",
       "997  260.24   38\n",
       "998  416.61   39\n",
       "999  111.01   68\n",
       "\n",
       "[1000 rows x 2 columns]"
      ]
     },
     "execution_count": 109,
     "metadata": {},
     "output_type": "execute_result"
    }
   ],
   "source": [
    "\n",
    "discretas = dummies.iloc[:, 0:2]\n",
    "discretas"
   ]
  },
  {
   "cell_type": "code",
   "execution_count": 110,
   "metadata": {},
   "outputs": [
    {
     "data": {
      "text/plain": [
       "array([[ 0.90421426,  0.68180553],\n",
       "       [-0.70992198, -0.50474572],\n",
       "       [-1.0086118 ,  0.5499665 ],\n",
       "       ...,\n",
       "       [-0.04253803, -0.4388262 ],\n",
       "       [ 1.08481238, -0.37290669],\n",
       "       [-1.11841257,  1.5387592 ]])"
      ]
     },
     "execution_count": 110,
     "metadata": {},
     "output_type": "execute_result"
    }
   ],
   "source": [
    "scaler = StandardScaler()\n",
    "\n",
    "discretas_padronizadas = scaler.fit_transform(discretas)\n",
    "\n",
    "discretas_padronizadas"
   ]
  },
  {
   "cell_type": "code",
   "execution_count": 111,
   "metadata": {},
   "outputs": [
    {
     "data": {
      "text/html": [
       "<div>\n",
       "<style scoped>\n",
       "    .dataframe tbody tr th:only-of-type {\n",
       "        vertical-align: middle;\n",
       "    }\n",
       "\n",
       "    .dataframe tbody tr th {\n",
       "        vertical-align: top;\n",
       "    }\n",
       "\n",
       "    .dataframe thead th {\n",
       "        text-align: right;\n",
       "    }\n",
       "</style>\n",
       "<table border=\"1\" class=\"dataframe\">\n",
       "  <thead>\n",
       "    <tr style=\"text-align: right;\">\n",
       "      <th></th>\n",
       "      <th>Fraudulent</th>\n",
       "      <th>Card Type_MasterCard</th>\n",
       "      <th>Card Type_Visa</th>\n",
       "      <th>Entry Mode_PIN</th>\n",
       "      <th>Entry Mode_Tap</th>\n",
       "      <th>Transaction Type_ATM</th>\n",
       "      <th>Transaction Type_Online</th>\n",
       "      <th>Transaction Type_POS</th>\n",
       "      <th>Merchant Group_ATM Withdrawal</th>\n",
       "      <th>Merchant Group_Clothing</th>\n",
       "      <th>...</th>\n",
       "      <th>Time_16</th>\n",
       "      <th>Time_17</th>\n",
       "      <th>Time_18</th>\n",
       "      <th>Time_19</th>\n",
       "      <th>Time_20</th>\n",
       "      <th>Time_21</th>\n",
       "      <th>Time_22</th>\n",
       "      <th>Time_23</th>\n",
       "      <th>Amount</th>\n",
       "      <th>Age</th>\n",
       "    </tr>\n",
       "  </thead>\n",
       "  <tbody>\n",
       "    <tr>\n",
       "      <th>0</th>\n",
       "      <td>No</td>\n",
       "      <td>1</td>\n",
       "      <td>0</td>\n",
       "      <td>0</td>\n",
       "      <td>1</td>\n",
       "      <td>0</td>\n",
       "      <td>0</td>\n",
       "      <td>1</td>\n",
       "      <td>0</td>\n",
       "      <td>1</td>\n",
       "      <td>...</td>\n",
       "      <td>0</td>\n",
       "      <td>0</td>\n",
       "      <td>0</td>\n",
       "      <td>0</td>\n",
       "      <td>0</td>\n",
       "      <td>0</td>\n",
       "      <td>0</td>\n",
       "      <td>0</td>\n",
       "      <td>0.904214</td>\n",
       "      <td>0.681806</td>\n",
       "    </tr>\n",
       "    <tr>\n",
       "      <th>1</th>\n",
       "      <td>No</td>\n",
       "      <td>1</td>\n",
       "      <td>0</td>\n",
       "      <td>0</td>\n",
       "      <td>1</td>\n",
       "      <td>0</td>\n",
       "      <td>1</td>\n",
       "      <td>0</td>\n",
       "      <td>0</td>\n",
       "      <td>1</td>\n",
       "      <td>...</td>\n",
       "      <td>0</td>\n",
       "      <td>0</td>\n",
       "      <td>0</td>\n",
       "      <td>0</td>\n",
       "      <td>0</td>\n",
       "      <td>0</td>\n",
       "      <td>0</td>\n",
       "      <td>0</td>\n",
       "      <td>-0.709922</td>\n",
       "      <td>-0.504746</td>\n",
       "    </tr>\n",
       "    <tr>\n",
       "      <th>2</th>\n",
       "      <td>No</td>\n",
       "      <td>1</td>\n",
       "      <td>0</td>\n",
       "      <td>1</td>\n",
       "      <td>0</td>\n",
       "      <td>0</td>\n",
       "      <td>1</td>\n",
       "      <td>0</td>\n",
       "      <td>0</td>\n",
       "      <td>0</td>\n",
       "      <td>...</td>\n",
       "      <td>0</td>\n",
       "      <td>0</td>\n",
       "      <td>0</td>\n",
       "      <td>0</td>\n",
       "      <td>0</td>\n",
       "      <td>0</td>\n",
       "      <td>0</td>\n",
       "      <td>0</td>\n",
       "      <td>-1.008612</td>\n",
       "      <td>0.549967</td>\n",
       "    </tr>\n",
       "    <tr>\n",
       "      <th>3</th>\n",
       "      <td>No</td>\n",
       "      <td>1</td>\n",
       "      <td>0</td>\n",
       "      <td>0</td>\n",
       "      <td>1</td>\n",
       "      <td>0</td>\n",
       "      <td>1</td>\n",
       "      <td>0</td>\n",
       "      <td>0</td>\n",
       "      <td>0</td>\n",
       "      <td>...</td>\n",
       "      <td>0</td>\n",
       "      <td>0</td>\n",
       "      <td>0</td>\n",
       "      <td>0</td>\n",
       "      <td>0</td>\n",
       "      <td>0</td>\n",
       "      <td>0</td>\n",
       "      <td>0</td>\n",
       "      <td>1.662943</td>\n",
       "      <td>-1.559458</td>\n",
       "    </tr>\n",
       "    <tr>\n",
       "      <th>4</th>\n",
       "      <td>No</td>\n",
       "      <td>1</td>\n",
       "      <td>0</td>\n",
       "      <td>0</td>\n",
       "      <td>1</td>\n",
       "      <td>0</td>\n",
       "      <td>0</td>\n",
       "      <td>1</td>\n",
       "      <td>0</td>\n",
       "      <td>0</td>\n",
       "      <td>...</td>\n",
       "      <td>0</td>\n",
       "      <td>0</td>\n",
       "      <td>0</td>\n",
       "      <td>0</td>\n",
       "      <td>0</td>\n",
       "      <td>0</td>\n",
       "      <td>0</td>\n",
       "      <td>1</td>\n",
       "      <td>1.303044</td>\n",
       "      <td>0.484047</td>\n",
       "    </tr>\n",
       "    <tr>\n",
       "      <th>...</th>\n",
       "      <td>...</td>\n",
       "      <td>...</td>\n",
       "      <td>...</td>\n",
       "      <td>...</td>\n",
       "      <td>...</td>\n",
       "      <td>...</td>\n",
       "      <td>...</td>\n",
       "      <td>...</td>\n",
       "      <td>...</td>\n",
       "      <td>...</td>\n",
       "      <td>...</td>\n",
       "      <td>...</td>\n",
       "      <td>...</td>\n",
       "      <td>...</td>\n",
       "      <td>...</td>\n",
       "      <td>...</td>\n",
       "      <td>...</td>\n",
       "      <td>...</td>\n",
       "      <td>...</td>\n",
       "      <td>...</td>\n",
       "      <td>...</td>\n",
       "    </tr>\n",
       "    <tr>\n",
       "      <th>995</th>\n",
       "      <td>No</td>\n",
       "      <td>0</td>\n",
       "      <td>1</td>\n",
       "      <td>1</td>\n",
       "      <td>0</td>\n",
       "      <td>0</td>\n",
       "      <td>1</td>\n",
       "      <td>0</td>\n",
       "      <td>0</td>\n",
       "      <td>1</td>\n",
       "      <td>...</td>\n",
       "      <td>0</td>\n",
       "      <td>0</td>\n",
       "      <td>0</td>\n",
       "      <td>0</td>\n",
       "      <td>0</td>\n",
       "      <td>0</td>\n",
       "      <td>0</td>\n",
       "      <td>0</td>\n",
       "      <td>-1.155902</td>\n",
       "      <td>0.088530</td>\n",
       "    </tr>\n",
       "    <tr>\n",
       "      <th>996</th>\n",
       "      <td>No</td>\n",
       "      <td>1</td>\n",
       "      <td>0</td>\n",
       "      <td>1</td>\n",
       "      <td>0</td>\n",
       "      <td>0</td>\n",
       "      <td>1</td>\n",
       "      <td>0</td>\n",
       "      <td>0</td>\n",
       "      <td>0</td>\n",
       "      <td>...</td>\n",
       "      <td>0</td>\n",
       "      <td>0</td>\n",
       "      <td>0</td>\n",
       "      <td>0</td>\n",
       "      <td>0</td>\n",
       "      <td>0</td>\n",
       "      <td>0</td>\n",
       "      <td>0</td>\n",
       "      <td>0.678196</td>\n",
       "      <td>1.077323</td>\n",
       "    </tr>\n",
       "    <tr>\n",
       "      <th>997</th>\n",
       "      <td>No</td>\n",
       "      <td>0</td>\n",
       "      <td>1</td>\n",
       "      <td>1</td>\n",
       "      <td>0</td>\n",
       "      <td>1</td>\n",
       "      <td>0</td>\n",
       "      <td>0</td>\n",
       "      <td>0</td>\n",
       "      <td>1</td>\n",
       "      <td>...</td>\n",
       "      <td>0</td>\n",
       "      <td>0</td>\n",
       "      <td>0</td>\n",
       "      <td>0</td>\n",
       "      <td>0</td>\n",
       "      <td>0</td>\n",
       "      <td>0</td>\n",
       "      <td>0</td>\n",
       "      <td>-0.042538</td>\n",
       "      <td>-0.438826</td>\n",
       "    </tr>\n",
       "    <tr>\n",
       "      <th>998</th>\n",
       "      <td>No</td>\n",
       "      <td>0</td>\n",
       "      <td>1</td>\n",
       "      <td>0</td>\n",
       "      <td>1</td>\n",
       "      <td>0</td>\n",
       "      <td>0</td>\n",
       "      <td>1</td>\n",
       "      <td>1</td>\n",
       "      <td>0</td>\n",
       "      <td>...</td>\n",
       "      <td>0</td>\n",
       "      <td>0</td>\n",
       "      <td>0</td>\n",
       "      <td>0</td>\n",
       "      <td>0</td>\n",
       "      <td>0</td>\n",
       "      <td>0</td>\n",
       "      <td>0</td>\n",
       "      <td>1.084812</td>\n",
       "      <td>-0.372907</td>\n",
       "    </tr>\n",
       "    <tr>\n",
       "      <th>999</th>\n",
       "      <td>No</td>\n",
       "      <td>0</td>\n",
       "      <td>1</td>\n",
       "      <td>1</td>\n",
       "      <td>0</td>\n",
       "      <td>1</td>\n",
       "      <td>0</td>\n",
       "      <td>0</td>\n",
       "      <td>0</td>\n",
       "      <td>0</td>\n",
       "      <td>...</td>\n",
       "      <td>0</td>\n",
       "      <td>0</td>\n",
       "      <td>0</td>\n",
       "      <td>0</td>\n",
       "      <td>0</td>\n",
       "      <td>0</td>\n",
       "      <td>0</td>\n",
       "      <td>0</td>\n",
       "      <td>-1.118413</td>\n",
       "      <td>1.538759</td>\n",
       "    </tr>\n",
       "  </tbody>\n",
       "</table>\n",
       "<p>1000 rows × 88 columns</p>\n",
       "</div>"
      ],
      "text/plain": [
       "    Fraudulent  Card Type_MasterCard  Card Type_Visa  Entry Mode_PIN  \\\n",
       "0           No                     1               0               0   \n",
       "1           No                     1               0               0   \n",
       "2           No                     1               0               1   \n",
       "3           No                     1               0               0   \n",
       "4           No                     1               0               0   \n",
       "..         ...                   ...             ...             ...   \n",
       "995         No                     0               1               1   \n",
       "996         No                     1               0               1   \n",
       "997         No                     0               1               1   \n",
       "998         No                     0               1               0   \n",
       "999         No                     0               1               1   \n",
       "\n",
       "     Entry Mode_Tap  Transaction Type_ATM  Transaction Type_Online  \\\n",
       "0                 1                     0                        0   \n",
       "1                 1                     0                        1   \n",
       "2                 0                     0                        1   \n",
       "3                 1                     0                        1   \n",
       "4                 1                     0                        0   \n",
       "..              ...                   ...                      ...   \n",
       "995               0                     0                        1   \n",
       "996               0                     0                        1   \n",
       "997               0                     1                        0   \n",
       "998               1                     0                        0   \n",
       "999               0                     1                        0   \n",
       "\n",
       "     Transaction Type_POS  Merchant Group_ATM Withdrawal  \\\n",
       "0                       1                              0   \n",
       "1                       0                              0   \n",
       "2                       0                              0   \n",
       "3                       0                              0   \n",
       "4                       1                              0   \n",
       "..                    ...                            ...   \n",
       "995                     0                              0   \n",
       "996                     0                              0   \n",
       "997                     0                              0   \n",
       "998                     1                              1   \n",
       "999                     0                              0   \n",
       "\n",
       "     Merchant Group_Clothing  ...  Time_16  Time_17  Time_18  Time_19  \\\n",
       "0                          1  ...        0        0        0        0   \n",
       "1                          1  ...        0        0        0        0   \n",
       "2                          0  ...        0        0        0        0   \n",
       "3                          0  ...        0        0        0        0   \n",
       "4                          0  ...        0        0        0        0   \n",
       "..                       ...  ...      ...      ...      ...      ...   \n",
       "995                        1  ...        0        0        0        0   \n",
       "996                        0  ...        0        0        0        0   \n",
       "997                        1  ...        0        0        0        0   \n",
       "998                        0  ...        0        0        0        0   \n",
       "999                        0  ...        0        0        0        0   \n",
       "\n",
       "     Time_20  Time_21  Time_22  Time_23    Amount       Age  \n",
       "0          0        0        0        0  0.904214  0.681806  \n",
       "1          0        0        0        0 -0.709922 -0.504746  \n",
       "2          0        0        0        0 -1.008612  0.549967  \n",
       "3          0        0        0        0  1.662943 -1.559458  \n",
       "4          0        0        0        1  1.303044  0.484047  \n",
       "..       ...      ...      ...      ...       ...       ...  \n",
       "995        0        0        0        0 -1.155902  0.088530  \n",
       "996        0        0        0        0  0.678196  1.077323  \n",
       "997        0        0        0        0 -0.042538 -0.438826  \n",
       "998        0        0        0        0  1.084812 -0.372907  \n",
       "999        0        0        0        0 -1.118413  1.538759  \n",
       "\n",
       "[1000 rows x 88 columns]"
      ]
     },
     "execution_count": 111,
     "metadata": {},
     "output_type": "execute_result"
    }
   ],
   "source": [
    "dummies = pd.concat([dummies, pd.DataFrame(discretas_padronizadas)], axis=1)\n",
    "\n",
    "\n",
    "dummies.drop(['Amount', 'Age'], axis=1, inplace=True)\n",
    "\n",
    "dummies.rename(columns={0: 'Amount', 1: 'Age'}, inplace=True)\n",
    "dummies"
   ]
  },
  {
   "cell_type": "code",
   "execution_count": 112,
   "metadata": {},
   "outputs": [],
   "source": [
    "df_fraudulent = dummies[dummies['Fraudulent'] == 'Yes']\n",
    "df_not_fraudulent = dummies[dummies['Fraudulent'] == 'No']"
   ]
  },
  {
   "cell_type": "code",
   "execution_count": 113,
   "metadata": {},
   "outputs": [],
   "source": [
    "fraudulent_train, fraudulent_test = train_test_split(df_fraudulent, test_size=.2, random_state=42)"
   ]
  },
  {
   "cell_type": "code",
   "execution_count": 114,
   "metadata": {},
   "outputs": [],
   "source": [
    "not_fraudulent_train, not_fraudulent_test = train_test_split(df_not_fraudulent, test_size=.2, random_state=42)"
   ]
  },
  {
   "cell_type": "code",
   "execution_count": 115,
   "metadata": {},
   "outputs": [],
   "source": [
    "train = pd.concat([fraudulent_train, not_fraudulent_train], axis=0)"
   ]
  },
  {
   "cell_type": "code",
   "execution_count": 116,
   "metadata": {},
   "outputs": [],
   "source": [
    "test = pd.concat([fraudulent_test, not_fraudulent_test], axis=0)"
   ]
  },
  {
   "cell_type": "code",
   "execution_count": 117,
   "metadata": {},
   "outputs": [],
   "source": [
    "X_train = train.drop(['Fraudulent'], axis='columns')"
   ]
  },
  {
   "cell_type": "code",
   "execution_count": 118,
   "metadata": {},
   "outputs": [
    {
     "data": {
      "text/html": [
       "<div>\n",
       "<style scoped>\n",
       "    .dataframe tbody tr th:only-of-type {\n",
       "        vertical-align: middle;\n",
       "    }\n",
       "\n",
       "    .dataframe tbody tr th {\n",
       "        vertical-align: top;\n",
       "    }\n",
       "\n",
       "    .dataframe thead th {\n",
       "        text-align: right;\n",
       "    }\n",
       "</style>\n",
       "<table border=\"1\" class=\"dataframe\">\n",
       "  <thead>\n",
       "    <tr style=\"text-align: right;\">\n",
       "      <th></th>\n",
       "      <th>Card Type_MasterCard</th>\n",
       "      <th>Card Type_Visa</th>\n",
       "      <th>Entry Mode_PIN</th>\n",
       "      <th>Entry Mode_Tap</th>\n",
       "      <th>Transaction Type_ATM</th>\n",
       "      <th>Transaction Type_Online</th>\n",
       "      <th>Transaction Type_POS</th>\n",
       "      <th>Merchant Group_ATM Withdrawal</th>\n",
       "      <th>Merchant Group_Clothing</th>\n",
       "      <th>Merchant Group_Electronics</th>\n",
       "      <th>...</th>\n",
       "      <th>Time_16</th>\n",
       "      <th>Time_17</th>\n",
       "      <th>Time_18</th>\n",
       "      <th>Time_19</th>\n",
       "      <th>Time_20</th>\n",
       "      <th>Time_21</th>\n",
       "      <th>Time_22</th>\n",
       "      <th>Time_23</th>\n",
       "      <th>Amount</th>\n",
       "      <th>Age</th>\n",
       "    </tr>\n",
       "  </thead>\n",
       "  <tbody>\n",
       "    <tr>\n",
       "      <th>230</th>\n",
       "      <td>0</td>\n",
       "      <td>1</td>\n",
       "      <td>1</td>\n",
       "      <td>0</td>\n",
       "      <td>1</td>\n",
       "      <td>0</td>\n",
       "      <td>0</td>\n",
       "      <td>0</td>\n",
       "      <td>0</td>\n",
       "      <td>0</td>\n",
       "      <td>...</td>\n",
       "      <td>0</td>\n",
       "      <td>0</td>\n",
       "      <td>0</td>\n",
       "      <td>0</td>\n",
       "      <td>0</td>\n",
       "      <td>0</td>\n",
       "      <td>0</td>\n",
       "      <td>0</td>\n",
       "      <td>0.477700</td>\n",
       "      <td>-1.625377</td>\n",
       "    </tr>\n",
       "    <tr>\n",
       "      <th>759</th>\n",
       "      <td>1</td>\n",
       "      <td>0</td>\n",
       "      <td>1</td>\n",
       "      <td>0</td>\n",
       "      <td>0</td>\n",
       "      <td>1</td>\n",
       "      <td>0</td>\n",
       "      <td>0</td>\n",
       "      <td>0</td>\n",
       "      <td>1</td>\n",
       "      <td>...</td>\n",
       "      <td>0</td>\n",
       "      <td>0</td>\n",
       "      <td>0</td>\n",
       "      <td>0</td>\n",
       "      <td>0</td>\n",
       "      <td>1</td>\n",
       "      <td>0</td>\n",
       "      <td>0</td>\n",
       "      <td>1.525674</td>\n",
       "      <td>0.022610</td>\n",
       "    </tr>\n",
       "    <tr>\n",
       "      <th>356</th>\n",
       "      <td>1</td>\n",
       "      <td>0</td>\n",
       "      <td>1</td>\n",
       "      <td>0</td>\n",
       "      <td>0</td>\n",
       "      <td>0</td>\n",
       "      <td>1</td>\n",
       "      <td>0</td>\n",
       "      <td>1</td>\n",
       "      <td>0</td>\n",
       "      <td>...</td>\n",
       "      <td>0</td>\n",
       "      <td>1</td>\n",
       "      <td>0</td>\n",
       "      <td>0</td>\n",
       "      <td>0</td>\n",
       "      <td>0</td>\n",
       "      <td>0</td>\n",
       "      <td>0</td>\n",
       "      <td>-1.621636</td>\n",
       "      <td>1.275081</td>\n",
       "    </tr>\n",
       "    <tr>\n",
       "      <th>478</th>\n",
       "      <td>1</td>\n",
       "      <td>0</td>\n",
       "      <td>0</td>\n",
       "      <td>1</td>\n",
       "      <td>0</td>\n",
       "      <td>1</td>\n",
       "      <td>0</td>\n",
       "      <td>0</td>\n",
       "      <td>0</td>\n",
       "      <td>1</td>\n",
       "      <td>...</td>\n",
       "      <td>0</td>\n",
       "      <td>0</td>\n",
       "      <td>0</td>\n",
       "      <td>0</td>\n",
       "      <td>0</td>\n",
       "      <td>0</td>\n",
       "      <td>1</td>\n",
       "      <td>0</td>\n",
       "      <td>1.071403</td>\n",
       "      <td>0.484047</td>\n",
       "    </tr>\n",
       "    <tr>\n",
       "      <th>307</th>\n",
       "      <td>0</td>\n",
       "      <td>1</td>\n",
       "      <td>0</td>\n",
       "      <td>1</td>\n",
       "      <td>0</td>\n",
       "      <td>1</td>\n",
       "      <td>0</td>\n",
       "      <td>0</td>\n",
       "      <td>1</td>\n",
       "      <td>0</td>\n",
       "      <td>...</td>\n",
       "      <td>0</td>\n",
       "      <td>0</td>\n",
       "      <td>0</td>\n",
       "      <td>0</td>\n",
       "      <td>1</td>\n",
       "      <td>0</td>\n",
       "      <td>0</td>\n",
       "      <td>0</td>\n",
       "      <td>-1.660063</td>\n",
       "      <td>-0.175148</td>\n",
       "    </tr>\n",
       "    <tr>\n",
       "      <th>...</th>\n",
       "      <td>...</td>\n",
       "      <td>...</td>\n",
       "      <td>...</td>\n",
       "      <td>...</td>\n",
       "      <td>...</td>\n",
       "      <td>...</td>\n",
       "      <td>...</td>\n",
       "      <td>...</td>\n",
       "      <td>...</td>\n",
       "      <td>...</td>\n",
       "      <td>...</td>\n",
       "      <td>...</td>\n",
       "      <td>...</td>\n",
       "      <td>...</td>\n",
       "      <td>...</td>\n",
       "      <td>...</td>\n",
       "      <td>...</td>\n",
       "      <td>...</td>\n",
       "      <td>...</td>\n",
       "      <td>...</td>\n",
       "      <td>...</td>\n",
       "    </tr>\n",
       "    <tr>\n",
       "      <th>107</th>\n",
       "      <td>0</td>\n",
       "      <td>1</td>\n",
       "      <td>0</td>\n",
       "      <td>1</td>\n",
       "      <td>0</td>\n",
       "      <td>0</td>\n",
       "      <td>1</td>\n",
       "      <td>0</td>\n",
       "      <td>0</td>\n",
       "      <td>0</td>\n",
       "      <td>...</td>\n",
       "      <td>0</td>\n",
       "      <td>0</td>\n",
       "      <td>0</td>\n",
       "      <td>0</td>\n",
       "      <td>0</td>\n",
       "      <td>0</td>\n",
       "      <td>0</td>\n",
       "      <td>0</td>\n",
       "      <td>-0.553476</td>\n",
       "      <td>1.604679</td>\n",
       "    </tr>\n",
       "    <tr>\n",
       "      <th>279</th>\n",
       "      <td>1</td>\n",
       "      <td>0</td>\n",
       "      <td>1</td>\n",
       "      <td>0</td>\n",
       "      <td>0</td>\n",
       "      <td>1</td>\n",
       "      <td>0</td>\n",
       "      <td>0</td>\n",
       "      <td>0</td>\n",
       "      <td>1</td>\n",
       "      <td>...</td>\n",
       "      <td>0</td>\n",
       "      <td>0</td>\n",
       "      <td>0</td>\n",
       "      <td>0</td>\n",
       "      <td>0</td>\n",
       "      <td>0</td>\n",
       "      <td>0</td>\n",
       "      <td>0</td>\n",
       "      <td>-0.127322</td>\n",
       "      <td>-1.493538</td>\n",
       "    </tr>\n",
       "    <tr>\n",
       "      <th>896</th>\n",
       "      <td>0</td>\n",
       "      <td>1</td>\n",
       "      <td>0</td>\n",
       "      <td>1</td>\n",
       "      <td>1</td>\n",
       "      <td>0</td>\n",
       "      <td>0</td>\n",
       "      <td>0</td>\n",
       "      <td>1</td>\n",
       "      <td>0</td>\n",
       "      <td>...</td>\n",
       "      <td>0</td>\n",
       "      <td>0</td>\n",
       "      <td>0</td>\n",
       "      <td>0</td>\n",
       "      <td>0</td>\n",
       "      <td>0</td>\n",
       "      <td>0</td>\n",
       "      <td>0</td>\n",
       "      <td>1.510678</td>\n",
       "      <td>0.681806</td>\n",
       "    </tr>\n",
       "    <tr>\n",
       "      <th>450</th>\n",
       "      <td>0</td>\n",
       "      <td>1</td>\n",
       "      <td>0</td>\n",
       "      <td>1</td>\n",
       "      <td>0</td>\n",
       "      <td>0</td>\n",
       "      <td>1</td>\n",
       "      <td>0</td>\n",
       "      <td>0</td>\n",
       "      <td>0</td>\n",
       "      <td>...</td>\n",
       "      <td>0</td>\n",
       "      <td>0</td>\n",
       "      <td>0</td>\n",
       "      <td>0</td>\n",
       "      <td>0</td>\n",
       "      <td>0</td>\n",
       "      <td>0</td>\n",
       "      <td>0</td>\n",
       "      <td>1.117039</td>\n",
       "      <td>-0.900263</td>\n",
       "    </tr>\n",
       "    <tr>\n",
       "      <th>103</th>\n",
       "      <td>0</td>\n",
       "      <td>1</td>\n",
       "      <td>0</td>\n",
       "      <td>1</td>\n",
       "      <td>1</td>\n",
       "      <td>0</td>\n",
       "      <td>0</td>\n",
       "      <td>0</td>\n",
       "      <td>0</td>\n",
       "      <td>0</td>\n",
       "      <td>...</td>\n",
       "      <td>0</td>\n",
       "      <td>0</td>\n",
       "      <td>0</td>\n",
       "      <td>0</td>\n",
       "      <td>0</td>\n",
       "      <td>0</td>\n",
       "      <td>0</td>\n",
       "      <td>0</td>\n",
       "      <td>1.675848</td>\n",
       "      <td>0.418127</td>\n",
       "    </tr>\n",
       "  </tbody>\n",
       "</table>\n",
       "<p>799 rows × 87 columns</p>\n",
       "</div>"
      ],
      "text/plain": [
       "     Card Type_MasterCard  Card Type_Visa  Entry Mode_PIN  Entry Mode_Tap  \\\n",
       "230                     0               1               1               0   \n",
       "759                     1               0               1               0   \n",
       "356                     1               0               1               0   \n",
       "478                     1               0               0               1   \n",
       "307                     0               1               0               1   \n",
       "..                    ...             ...             ...             ...   \n",
       "107                     0               1               0               1   \n",
       "279                     1               0               1               0   \n",
       "896                     0               1               0               1   \n",
       "450                     0               1               0               1   \n",
       "103                     0               1               0               1   \n",
       "\n",
       "     Transaction Type_ATM  Transaction Type_Online  Transaction Type_POS  \\\n",
       "230                     1                        0                     0   \n",
       "759                     0                        1                     0   \n",
       "356                     0                        0                     1   \n",
       "478                     0                        1                     0   \n",
       "307                     0                        1                     0   \n",
       "..                    ...                      ...                   ...   \n",
       "107                     0                        0                     1   \n",
       "279                     0                        1                     0   \n",
       "896                     1                        0                     0   \n",
       "450                     0                        0                     1   \n",
       "103                     1                        0                     0   \n",
       "\n",
       "     Merchant Group_ATM Withdrawal  Merchant Group_Clothing  \\\n",
       "230                              0                        0   \n",
       "759                              0                        0   \n",
       "356                              0                        1   \n",
       "478                              0                        0   \n",
       "307                              0                        1   \n",
       "..                             ...                      ...   \n",
       "107                              0                        0   \n",
       "279                              0                        0   \n",
       "896                              0                        1   \n",
       "450                              0                        0   \n",
       "103                              0                        0   \n",
       "\n",
       "     Merchant Group_Electronics  ...  Time_16  Time_17  Time_18  Time_19  \\\n",
       "230                           0  ...        0        0        0        0   \n",
       "759                           1  ...        0        0        0        0   \n",
       "356                           0  ...        0        1        0        0   \n",
       "478                           1  ...        0        0        0        0   \n",
       "307                           0  ...        0        0        0        0   \n",
       "..                          ...  ...      ...      ...      ...      ...   \n",
       "107                           0  ...        0        0        0        0   \n",
       "279                           1  ...        0        0        0        0   \n",
       "896                           0  ...        0        0        0        0   \n",
       "450                           0  ...        0        0        0        0   \n",
       "103                           0  ...        0        0        0        0   \n",
       "\n",
       "     Time_20  Time_21  Time_22  Time_23    Amount       Age  \n",
       "230        0        0        0        0  0.477700 -1.625377  \n",
       "759        0        1        0        0  1.525674  0.022610  \n",
       "356        0        0        0        0 -1.621636  1.275081  \n",
       "478        0        0        1        0  1.071403  0.484047  \n",
       "307        1        0        0        0 -1.660063 -0.175148  \n",
       "..       ...      ...      ...      ...       ...       ...  \n",
       "107        0        0        0        0 -0.553476  1.604679  \n",
       "279        0        0        0        0 -0.127322 -1.493538  \n",
       "896        0        0        0        0  1.510678  0.681806  \n",
       "450        0        0        0        0  1.117039 -0.900263  \n",
       "103        0        0        0        0  1.675848  0.418127  \n",
       "\n",
       "[799 rows x 87 columns]"
      ]
     },
     "execution_count": 118,
     "metadata": {},
     "output_type": "execute_result"
    }
   ],
   "source": [
    "X_train"
   ]
  },
  {
   "cell_type": "code",
   "execution_count": 120,
   "metadata": {},
   "outputs": [
    {
     "data": {
      "text/plain": [
       "230    Yes\n",
       "759    Yes\n",
       "356    Yes\n",
       "478    Yes\n",
       "307    Yes\n",
       "      ... \n",
       "107     No\n",
       "279     No\n",
       "896     No\n",
       "450     No\n",
       "103     No\n",
       "Name: Fraudulent, Length: 799, dtype: object"
      ]
     },
     "execution_count": 120,
     "metadata": {},
     "output_type": "execute_result"
    }
   ],
   "source": [
    "y_train = train['Fraudulent']\n",
    "y_train"
   ]
  },
  {
   "cell_type": "code",
   "execution_count": 122,
   "metadata": {},
   "outputs": [
    {
     "data": {
      "text/html": [
       "<div>\n",
       "<style scoped>\n",
       "    .dataframe tbody tr th:only-of-type {\n",
       "        vertical-align: middle;\n",
       "    }\n",
       "\n",
       "    .dataframe tbody tr th {\n",
       "        vertical-align: top;\n",
       "    }\n",
       "\n",
       "    .dataframe thead th {\n",
       "        text-align: right;\n",
       "    }\n",
       "</style>\n",
       "<table border=\"1\" class=\"dataframe\">\n",
       "  <thead>\n",
       "    <tr style=\"text-align: right;\">\n",
       "      <th></th>\n",
       "      <th>Card Type_MasterCard</th>\n",
       "      <th>Card Type_Visa</th>\n",
       "      <th>Entry Mode_PIN</th>\n",
       "      <th>Entry Mode_Tap</th>\n",
       "      <th>Transaction Type_ATM</th>\n",
       "      <th>Transaction Type_Online</th>\n",
       "      <th>Transaction Type_POS</th>\n",
       "      <th>Merchant Group_ATM Withdrawal</th>\n",
       "      <th>Merchant Group_Clothing</th>\n",
       "      <th>Merchant Group_Electronics</th>\n",
       "      <th>...</th>\n",
       "      <th>Time_16</th>\n",
       "      <th>Time_17</th>\n",
       "      <th>Time_18</th>\n",
       "      <th>Time_19</th>\n",
       "      <th>Time_20</th>\n",
       "      <th>Time_21</th>\n",
       "      <th>Time_22</th>\n",
       "      <th>Time_23</th>\n",
       "      <th>Amount</th>\n",
       "      <th>Age</th>\n",
       "    </tr>\n",
       "  </thead>\n",
       "  <tbody>\n",
       "    <tr>\n",
       "      <th>702</th>\n",
       "      <td>1</td>\n",
       "      <td>0</td>\n",
       "      <td>1</td>\n",
       "      <td>0</td>\n",
       "      <td>1</td>\n",
       "      <td>0</td>\n",
       "      <td>0</td>\n",
       "      <td>0</td>\n",
       "      <td>0</td>\n",
       "      <td>0</td>\n",
       "      <td>...</td>\n",
       "      <td>0</td>\n",
       "      <td>0</td>\n",
       "      <td>0</td>\n",
       "      <td>0</td>\n",
       "      <td>0</td>\n",
       "      <td>0</td>\n",
       "      <td>0</td>\n",
       "      <td>0</td>\n",
       "      <td>-0.867738</td>\n",
       "      <td>0.286288</td>\n",
       "    </tr>\n",
       "    <tr>\n",
       "      <th>367</th>\n",
       "      <td>0</td>\n",
       "      <td>1</td>\n",
       "      <td>0</td>\n",
       "      <td>1</td>\n",
       "      <td>0</td>\n",
       "      <td>1</td>\n",
       "      <td>0</td>\n",
       "      <td>0</td>\n",
       "      <td>0</td>\n",
       "      <td>0</td>\n",
       "      <td>...</td>\n",
       "      <td>0</td>\n",
       "      <td>0</td>\n",
       "      <td>0</td>\n",
       "      <td>0</td>\n",
       "      <td>0</td>\n",
       "      <td>0</td>\n",
       "      <td>0</td>\n",
       "      <td>0</td>\n",
       "      <td>-1.105652</td>\n",
       "      <td>0.352208</td>\n",
       "    </tr>\n",
       "    <tr>\n",
       "      <th>243</th>\n",
       "      <td>1</td>\n",
       "      <td>0</td>\n",
       "      <td>0</td>\n",
       "      <td>1</td>\n",
       "      <td>0</td>\n",
       "      <td>0</td>\n",
       "      <td>1</td>\n",
       "      <td>0</td>\n",
       "      <td>0</td>\n",
       "      <td>0</td>\n",
       "      <td>...</td>\n",
       "      <td>1</td>\n",
       "      <td>0</td>\n",
       "      <td>0</td>\n",
       "      <td>0</td>\n",
       "      <td>0</td>\n",
       "      <td>0</td>\n",
       "      <td>0</td>\n",
       "      <td>0</td>\n",
       "      <td>0.810419</td>\n",
       "      <td>1.143242</td>\n",
       "    </tr>\n",
       "    <tr>\n",
       "      <th>752</th>\n",
       "      <td>1</td>\n",
       "      <td>0</td>\n",
       "      <td>0</td>\n",
       "      <td>1</td>\n",
       "      <td>0</td>\n",
       "      <td>0</td>\n",
       "      <td>1</td>\n",
       "      <td>0</td>\n",
       "      <td>0</td>\n",
       "      <td>0</td>\n",
       "      <td>...</td>\n",
       "      <td>0</td>\n",
       "      <td>1</td>\n",
       "      <td>0</td>\n",
       "      <td>0</td>\n",
       "      <td>0</td>\n",
       "      <td>0</td>\n",
       "      <td>0</td>\n",
       "      <td>0</td>\n",
       "      <td>-1.765466</td>\n",
       "      <td>0.220369</td>\n",
       "    </tr>\n",
       "    <tr>\n",
       "      <th>137</th>\n",
       "      <td>0</td>\n",
       "      <td>1</td>\n",
       "      <td>0</td>\n",
       "      <td>1</td>\n",
       "      <td>1</td>\n",
       "      <td>0</td>\n",
       "      <td>0</td>\n",
       "      <td>1</td>\n",
       "      <td>0</td>\n",
       "      <td>0</td>\n",
       "      <td>...</td>\n",
       "      <td>1</td>\n",
       "      <td>0</td>\n",
       "      <td>0</td>\n",
       "      <td>0</td>\n",
       "      <td>0</td>\n",
       "      <td>0</td>\n",
       "      <td>0</td>\n",
       "      <td>0</td>\n",
       "      <td>-0.676181</td>\n",
       "      <td>-0.043309</td>\n",
       "    </tr>\n",
       "    <tr>\n",
       "      <th>...</th>\n",
       "      <td>...</td>\n",
       "      <td>...</td>\n",
       "      <td>...</td>\n",
       "      <td>...</td>\n",
       "      <td>...</td>\n",
       "      <td>...</td>\n",
       "      <td>...</td>\n",
       "      <td>...</td>\n",
       "      <td>...</td>\n",
       "      <td>...</td>\n",
       "      <td>...</td>\n",
       "      <td>...</td>\n",
       "      <td>...</td>\n",
       "      <td>...</td>\n",
       "      <td>...</td>\n",
       "      <td>...</td>\n",
       "      <td>...</td>\n",
       "      <td>...</td>\n",
       "      <td>...</td>\n",
       "      <td>...</td>\n",
       "      <td>...</td>\n",
       "    </tr>\n",
       "    <tr>\n",
       "      <th>480</th>\n",
       "      <td>0</td>\n",
       "      <td>1</td>\n",
       "      <td>0</td>\n",
       "      <td>1</td>\n",
       "      <td>1</td>\n",
       "      <td>0</td>\n",
       "      <td>0</td>\n",
       "      <td>0</td>\n",
       "      <td>0</td>\n",
       "      <td>0</td>\n",
       "      <td>...</td>\n",
       "      <td>0</td>\n",
       "      <td>0</td>\n",
       "      <td>0</td>\n",
       "      <td>0</td>\n",
       "      <td>0</td>\n",
       "      <td>0</td>\n",
       "      <td>0</td>\n",
       "      <td>0</td>\n",
       "      <td>0.415338</td>\n",
       "      <td>0.418127</td>\n",
       "    </tr>\n",
       "    <tr>\n",
       "      <th>698</th>\n",
       "      <td>0</td>\n",
       "      <td>1</td>\n",
       "      <td>0</td>\n",
       "      <td>1</td>\n",
       "      <td>0</td>\n",
       "      <td>1</td>\n",
       "      <td>0</td>\n",
       "      <td>0</td>\n",
       "      <td>0</td>\n",
       "      <td>1</td>\n",
       "      <td>...</td>\n",
       "      <td>0</td>\n",
       "      <td>0</td>\n",
       "      <td>0</td>\n",
       "      <td>0</td>\n",
       "      <td>0</td>\n",
       "      <td>0</td>\n",
       "      <td>0</td>\n",
       "      <td>0</td>\n",
       "      <td>-0.950792</td>\n",
       "      <td>-0.636585</td>\n",
       "    </tr>\n",
       "    <tr>\n",
       "      <th>33</th>\n",
       "      <td>0</td>\n",
       "      <td>1</td>\n",
       "      <td>1</td>\n",
       "      <td>0</td>\n",
       "      <td>0</td>\n",
       "      <td>0</td>\n",
       "      <td>1</td>\n",
       "      <td>0</td>\n",
       "      <td>1</td>\n",
       "      <td>0</td>\n",
       "      <td>...</td>\n",
       "      <td>0</td>\n",
       "      <td>0</td>\n",
       "      <td>0</td>\n",
       "      <td>0</td>\n",
       "      <td>1</td>\n",
       "      <td>0</td>\n",
       "      <td>0</td>\n",
       "      <td>0</td>\n",
       "      <td>0.904791</td>\n",
       "      <td>-1.691297</td>\n",
       "    </tr>\n",
       "    <tr>\n",
       "      <th>31</th>\n",
       "      <td>0</td>\n",
       "      <td>1</td>\n",
       "      <td>0</td>\n",
       "      <td>1</td>\n",
       "      <td>1</td>\n",
       "      <td>0</td>\n",
       "      <td>0</td>\n",
       "      <td>0</td>\n",
       "      <td>1</td>\n",
       "      <td>0</td>\n",
       "      <td>...</td>\n",
       "      <td>0</td>\n",
       "      <td>0</td>\n",
       "      <td>0</td>\n",
       "      <td>0</td>\n",
       "      <td>0</td>\n",
       "      <td>0</td>\n",
       "      <td>0</td>\n",
       "      <td>0</td>\n",
       "      <td>-0.490609</td>\n",
       "      <td>-0.372907</td>\n",
       "    </tr>\n",
       "    <tr>\n",
       "      <th>740</th>\n",
       "      <td>1</td>\n",
       "      <td>0</td>\n",
       "      <td>1</td>\n",
       "      <td>0</td>\n",
       "      <td>1</td>\n",
       "      <td>0</td>\n",
       "      <td>0</td>\n",
       "      <td>0</td>\n",
       "      <td>0</td>\n",
       "      <td>1</td>\n",
       "      <td>...</td>\n",
       "      <td>0</td>\n",
       "      <td>0</td>\n",
       "      <td>0</td>\n",
       "      <td>0</td>\n",
       "      <td>0</td>\n",
       "      <td>0</td>\n",
       "      <td>0</td>\n",
       "      <td>0</td>\n",
       "      <td>0.661686</td>\n",
       "      <td>1.406920</td>\n",
       "    </tr>\n",
       "  </tbody>\n",
       "</table>\n",
       "<p>201 rows × 87 columns</p>\n",
       "</div>"
      ],
      "text/plain": [
       "     Card Type_MasterCard  Card Type_Visa  Entry Mode_PIN  Entry Mode_Tap  \\\n",
       "702                     1               0               1               0   \n",
       "367                     0               1               0               1   \n",
       "243                     1               0               0               1   \n",
       "752                     1               0               0               1   \n",
       "137                     0               1               0               1   \n",
       "..                    ...             ...             ...             ...   \n",
       "480                     0               1               0               1   \n",
       "698                     0               1               0               1   \n",
       "33                      0               1               1               0   \n",
       "31                      0               1               0               1   \n",
       "740                     1               0               1               0   \n",
       "\n",
       "     Transaction Type_ATM  Transaction Type_Online  Transaction Type_POS  \\\n",
       "702                     1                        0                     0   \n",
       "367                     0                        1                     0   \n",
       "243                     0                        0                     1   \n",
       "752                     0                        0                     1   \n",
       "137                     1                        0                     0   \n",
       "..                    ...                      ...                   ...   \n",
       "480                     1                        0                     0   \n",
       "698                     0                        1                     0   \n",
       "33                      0                        0                     1   \n",
       "31                      1                        0                     0   \n",
       "740                     1                        0                     0   \n",
       "\n",
       "     Merchant Group_ATM Withdrawal  Merchant Group_Clothing  \\\n",
       "702                              0                        0   \n",
       "367                              0                        0   \n",
       "243                              0                        0   \n",
       "752                              0                        0   \n",
       "137                              1                        0   \n",
       "..                             ...                      ...   \n",
       "480                              0                        0   \n",
       "698                              0                        0   \n",
       "33                               0                        1   \n",
       "31                               0                        1   \n",
       "740                              0                        0   \n",
       "\n",
       "     Merchant Group_Electronics  ...  Time_16  Time_17  Time_18  Time_19  \\\n",
       "702                           0  ...        0        0        0        0   \n",
       "367                           0  ...        0        0        0        0   \n",
       "243                           0  ...        1        0        0        0   \n",
       "752                           0  ...        0        1        0        0   \n",
       "137                           0  ...        1        0        0        0   \n",
       "..                          ...  ...      ...      ...      ...      ...   \n",
       "480                           0  ...        0        0        0        0   \n",
       "698                           1  ...        0        0        0        0   \n",
       "33                            0  ...        0        0        0        0   \n",
       "31                            0  ...        0        0        0        0   \n",
       "740                           1  ...        0        0        0        0   \n",
       "\n",
       "     Time_20  Time_21  Time_22  Time_23    Amount       Age  \n",
       "702        0        0        0        0 -0.867738  0.286288  \n",
       "367        0        0        0        0 -1.105652  0.352208  \n",
       "243        0        0        0        0  0.810419  1.143242  \n",
       "752        0        0        0        0 -1.765466  0.220369  \n",
       "137        0        0        0        0 -0.676181 -0.043309  \n",
       "..       ...      ...      ...      ...       ...       ...  \n",
       "480        0        0        0        0  0.415338  0.418127  \n",
       "698        0        0        0        0 -0.950792 -0.636585  \n",
       "33         1        0        0        0  0.904791 -1.691297  \n",
       "31         0        0        0        0 -0.490609 -0.372907  \n",
       "740        0        0        0        0  0.661686  1.406920  \n",
       "\n",
       "[201 rows x 87 columns]"
      ]
     },
     "execution_count": 122,
     "metadata": {},
     "output_type": "execute_result"
    }
   ],
   "source": [
    "X_test = test.drop(['Fraudulent'], axis='columns')\n",
    "X_test"
   ]
  },
  {
   "cell_type": "code",
   "execution_count": 123,
   "metadata": {},
   "outputs": [
    {
     "data": {
      "text/plain": [
       "702    Yes\n",
       "367    Yes\n",
       "243    Yes\n",
       "752    Yes\n",
       "137    Yes\n",
       "      ... \n",
       "480     No\n",
       "698     No\n",
       "33      No\n",
       "31      No\n",
       "740     No\n",
       "Name: Fraudulent, Length: 201, dtype: object"
      ]
     },
     "execution_count": 123,
     "metadata": {},
     "output_type": "execute_result"
    }
   ],
   "source": [
    "y_test = test['Fraudulent']\n",
    "y_test"
   ]
  }
 ],
 "metadata": {
  "kernelspec": {
   "display_name": "data-science-3_EHRu8F-py3.11",
   "language": "python",
   "name": "python3"
  },
  "language_info": {
   "codemirror_mode": {
    "name": "ipython",
    "version": 3
   },
   "file_extension": ".py",
   "mimetype": "text/x-python",
   "name": "python",
   "nbconvert_exporter": "python",
   "pygments_lexer": "ipython3",
   "version": "3.11.4"
  }
 },
 "nbformat": 4,
 "nbformat_minor": 2
}
